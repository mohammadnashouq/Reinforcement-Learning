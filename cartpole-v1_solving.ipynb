{
  "cells": [
    {
      "cell_type": "markdown",
      "metadata": {
        "id": "Ahl5fgCt-_pq"
      },
      "source": [
        "Import Section"
      ]
    },
    {
      "cell_type": "code",
      "execution_count": 29,
      "metadata": {
        "id": "QrGv-R5U_DRW"
      },
      "outputs": [],
      "source": [
        "#Imports\n",
        "import gym\n",
        "import numpy as np\n",
        "import random\n",
        "from IPython.display import clear_output\n",
        "import progressbar\n",
        "\n",
        "import matplotlib.pyplot as plt\n",
        "from collections import deque\n",
        "import tensorflow as tf\n",
        "from tensorflow import keras\n",
        "from tensorflow.keras import Model, Sequential\n",
        "from tensorflow.keras.layers import Dense, Embedding, Reshape\n",
        "\n",
        "\n",
        "from tensorflow.keras.layers import Dense, Conv2D, Flatten, Input\n",
        "from tensorflow.keras.optimizers import Adam\n",
        "from tensorflow.keras.losses import Huber\n",
        "from tensorflow.keras.initializers import he_normal\n",
        "from tensorflow.keras.callbacks import History\n",
        "\n",
        "import math\n",
        "\n",
        "#Create Gym\n",
        "from gym import wrappers\n",
        "envCartPole = gym.make('CartPole-v1')\n",
        "envCartPole.seed(50) #Set the seed to keep the environment consistent across runs\n",
        "nS = envCartPole.observation_space.shape[0] #This is only 4\n",
        "nA = envCartPole.action_space.n #Actions\n"
      ]
    },
    {
      "cell_type": "markdown",
      "metadata": {
        "id": "QBBu_I2u_PKD"
      },
      "source": [
        "Parameters Tuning and Help Functions"
      ]
    },
    {
      "cell_type": "code",
      "execution_count": 30,
      "metadata": {
        "id": "sxAmiyKP_STN"
      },
      "outputs": [],
      "source": [
        "#Global Variables\n",
        "EPISODES = 500\n",
        "TRAIN_END = 0\n",
        "\n",
        "#Hyper Parameters\n",
        "def discount_rate(): #Gamma\n",
        "    return 0.95\n",
        "\n",
        "def learning_rate(): #Alpha\n",
        "    return 0.001\n",
        "\n",
        "def batch_size(): #Size of the batch used in the experience replay\n",
        "    return 24"
      ]
    },
    {
      "cell_type": "code",
      "execution_count": null,
      "metadata": {
        "id": "dMJ37dzB_OZ-"
      },
      "outputs": [],
      "source": []
    },
    {
      "cell_type": "markdown",
      "metadata": {
        "id": "vmGsxAW1-lpn"
      },
      "source": [
        "DQN networl implementation "
      ]
    },
    {
      "cell_type": "code",
      "execution_count": 31,
      "metadata": {
        "id": "hjTfTm1L-iBm"
      },
      "outputs": [],
      "source": [
        "class DeepQNetwork():\n",
        "    def __init__(self, states, actions, alpha, gamma, epsilon,epsilon_min, epsilon_decay):\n",
        "        self.nS = states\n",
        "        self.nA = actions\n",
        "        self.memory = deque([], maxlen=2500)\n",
        "        self.alpha = alpha\n",
        "        self.gamma = gamma\n",
        "        #Explore/Exploit\n",
        "        self.epsilon = epsilon\n",
        "        self.epsilon_min = epsilon_min\n",
        "        self.epsilon_decay = epsilon_decay\n",
        "        self.model = self.build_model()\n",
        "        self.actions_listed = []\n",
        "        self.loss = []\n",
        "        \n",
        "    def build_model(self):\n",
        "        model = keras.Sequential() #linear stack of layers https://keras.io/models/sequential/\n",
        "        model.add(keras.layers.Dense(24, input_dim=self.nS, activation='relu')) #[Input] -> Layer 1\n",
        "        #   Dense: Densely connected layer https://keras.io/layers/core/\n",
        "        #   24: Number of neurons\n",
        "        #   input_dim: Number of input variables\n",
        "        #   activation: Rectified Linear Unit (relu) ranges >= 0\n",
        "        model.add(keras.layers.Dense(24, activation='relu')) #Layer 2 -> 3\n",
        "        model.add(keras.layers.Dense(self.nA, activation='linear')) #Layer 3 -> [output]\n",
        "        #   Size has to match the output (different actions)\n",
        "        #   Linear activation on the last layer\n",
        "        model.compile(loss='mean_squared_error', #Loss function: Mean Squared Error\n",
        "                      optimizer=keras.optimizers.Adam(lr=self.alpha)) #Optimaizer: Adam (Feel free to check other options)\n",
        "        return model\n",
        "    def save_model(self):\n",
        "\n",
        "        self.model.save(\"my_model\")\n",
        "        print(\"-------- Model Saved ----\")\n",
        "    def load_model(self):\n",
        "        return keras.models.load_model(\"my_model\")\n",
        "        print(\"--------- Model Loaded ------------ \")\n",
        "       \n",
        "    def action(self, state):\n",
        "        if np.random.rand() <= self.epsilon:\n",
        "            return random.randrange(self.nA) #Explore\n",
        "        action_vals = self.model.predict(state) #Exploit: Use the NN to predict the correct action from this state\n",
        "        self.actions_listed.append(action_vals)\n",
        "        return np.argmax(action_vals[0])\n",
        "\n",
        "    def test_action(self, state): #Exploit\n",
        "        action_vals = self.model.predict(state)\n",
        "        return np.argmax(action_vals[0])\n",
        "\n",
        "    def store(self, state, action, reward, nstate, done):\n",
        "        #Store the experience in memory\n",
        "        self.memory.append( (state, action, reward, nstate, done) )\n",
        "\n",
        "    def experience_replay(self, batch_size):\n",
        "        #Execute the experience replay\n",
        "        minibatch = random.sample( self.memory, batch_size ) #Randomly sample from memory\n",
        "\n",
        "        #Convert to numpy for speed by vectorization\n",
        "        x = []\n",
        "        y = []\n",
        "        np_array = np.array(minibatch)\n",
        "        st = np.zeros((0,self.nS)) #States\n",
        "        nst = np.zeros( (0,self.nS) )#Next States\n",
        "        for i in range(len(np_array)): #Creating the state and next state np arrays\n",
        "            st = np.append( st, np_array[i,0], axis=0)\n",
        "            nst = np.append( nst, np_array[i,3], axis=0)\n",
        "        st_predict = self.model.predict(st) #Here is the speedup! I can predict on the ENTIRE batch\n",
        "        nst_predict = self.model.predict(nst)\n",
        "        index = 0\n",
        "        for state, action, reward, nstate, done in minibatch:\n",
        "            x.append(state)\n",
        "            #Predict from state\n",
        "            nst_action_predict_model = nst_predict[index]\n",
        "            if done == True: #Terminal: Just assign reward much like {* (not done) - QB[state][action]}\n",
        "                target = reward\n",
        "            else:   #Non terminal\n",
        "                target = reward + self.gamma * np.amax(nst_action_predict_model)\n",
        "            target_f = st_predict[index]\n",
        "            target_f[action] = target\n",
        "            y.append(target_f)\n",
        "            index += 1\n",
        "        #Reshape for Keras Fit\n",
        "        x_reshape = np.array(x).reshape(batch_size,self.nS)\n",
        "        y_reshape = np.array(y)\n",
        "        epoch_count = 1 #Epochs is the number or iterations\n",
        "        hist = self.model.fit(x_reshape, y_reshape, epochs=epoch_count, verbose=0)\n",
        "        #Graph Losses\n",
        "        for i in range(epoch_count):\n",
        "            self.loss.append( hist.history )\n",
        "        #Decay Epsilon\n",
        "        if self.epsilon > self.epsilon_min:\n",
        "            self.epsilon *= self.epsilon_decay"
      ]
    },
    {
      "cell_type": "markdown",
      "metadata": {
        "id": "ldfelTGU_hty"
      },
      "source": [
        "Creat Agent FOR DQN"
      ]
    },
    {
      "cell_type": "code",
      "execution_count": 32,
      "metadata": {
        "colab": {
          "base_uri": "https://localhost:8080/"
        },
        "id": "kR5haaXI_kuV",
        "outputId": "4e340c75-861b-4cb3-b220-be3037ebc9e3"
      },
      "outputs": [
        {
          "name": "stderr",
          "output_type": "stream",
          "text": [
            "/usr/local/lib/python3.7/dist-packages/keras/optimizer_v2/adam.py:105: UserWarning: The `lr` argument is deprecated, use `learning_rate` instead.\n",
            "  super(Adam, self).__init__(name, **kwargs)\n"
          ]
        }
      ],
      "source": [
        "#Create the agent\n",
        "nS = envCartPole.observation_space.shape[0] #This is only 4\n",
        "nA = envCartPole.action_space.n #Actions\n",
        "dqn = DeepQNetwork(nS, nA, learning_rate(), discount_rate(), 1, 0.001, 0.995 )\n",
        "\n",
        "batch_size = batch_size()"
      ]
    },
    {
      "cell_type": "markdown",
      "metadata": {
        "id": "Cfsd5N7X_okP"
      },
      "source": [
        "train the DQN "
      ]
    },
    {
      "cell_type": "code",
      "execution_count": 33,
      "metadata": {
        "colab": {
          "base_uri": "https://localhost:8080/"
        },
        "id": "NpbJDhEr_tBp",
        "outputId": "46c1a645-51c0-4dfd-a7d4-275482b9a146"
      },
      "outputs": [
        {
          "name": "stdout",
          "output_type": "stream",
          "text": [
            "episode: 0/500, reward: 24.0, e: 1  Game Score: 24\n",
            "INFO:tensorflow:Assets written to: my_model/assets\n",
            "-------- Model Saved ----\n"
          ]
        },
        {
          "name": "stderr",
          "output_type": "stream",
          "text": [
            "/usr/local/lib/python3.7/dist-packages/ipykernel_launcher.py:60: VisibleDeprecationWarning: Creating an ndarray from ragged nested sequences (which is a list-or-tuple of lists-or-tuples-or ndarrays with different lengths or shapes) is deprecated. If you meant to do this, you must specify 'dtype=object' when creating the ndarray.\n"
          ]
        },
        {
          "name": "stdout",
          "output_type": "stream",
          "text": [
            "episode: 1/500, reward: 11.0, e: 0.9511101304657719  Game Score: 11\n",
            "episode: 2/500, reward: 13.0, e: 0.8955869907338783  Game Score: 13\n",
            "episode: 3/500, reward: 20.0, e: 0.8142285204175609  Game Score: 20\n",
            "episode: 4/500, reward: 15.0, e: 0.7590483508202912  Game Score: 15\n",
            "episode: 5/500, reward: 19.0, e: 0.6935613678313175  Game Score: 19\n",
            "episode: 6/500, reward: 30.0, e: 0.5997278763867329  Game Score: 30\n",
            "episode: 7/500, reward: 14.0, e: 0.5618938591163328  Game Score: 14\n",
            "episode: 8/500, reward: 38.0, e: 0.46677573701590436  Game Score: 38\n",
            "episode: 9/500, reward: 10.0, e: 0.446186062443672  Game Score: 10\n",
            "episode: 10/500, reward: 14.0, e: 0.4180382776616619  Game Score: 14\n",
            "episode: 11/500, reward: 11.0, e: 0.3976004408064698  Game Score: 11\n",
            "episode: 12/500, reward: 11.0, e: 0.37816180712868996  Game Score: 11\n",
            "episode: 13/500, reward: 9.0, e: 0.3632974174544486  Game Score: 9\n",
            "episode: 14/500, reward: 10.0, e: 0.3472722151889232  Game Score: 10\n",
            "episode: 15/500, reward: 11.0, e: 0.3302941218954743  Game Score: 11\n",
            "episode: 16/500, reward: 10.0, e: 0.3157247089126454  Game Score: 10\n",
            "episode: 17/500, reward: 12.0, e: 0.2987875242397482  Game Score: 12\n",
            "episode: 18/500, reward: 9.0, e: 0.28704309604425327  Game Score: 9\n",
            "episode: 19/500, reward: 16.0, e: 0.2662522686041882  Game Score: 16\n",
            "episode: 20/500, reward: 11.0, e: 0.2532352299289372  Game Score: 11\n",
            "episode: 21/500, reward: 15.0, e: 0.23607350863684065  Game Score: 15\n",
            "episode: 22/500, reward: 14.0, e: 0.2211807388415433  Game Score: 14\n",
            "episode: 23/500, reward: 15.0, e: 0.20619134658263935  Game Score: 15\n",
            "episode: 24/500, reward: 12.0, e: 0.19513012515638165  Game Score: 12\n",
            "episode: 25/500, reward: 18.0, e: 0.17919120740315364  Game Score: 18\n",
            "INFO:tensorflow:Assets written to: my_model/assets\n",
            "-------- Model Saved ----\n"
          ]
        },
        {
          "name": "stderr",
          "output_type": "stream",
          "text": [
            "/usr/local/lib/python3.7/dist-packages/ipykernel_launcher.py:60: VisibleDeprecationWarning: Creating an ndarray from ragged nested sequences (which is a list-or-tuple of lists-or-tuples-or ndarrays with different lengths or shapes) is deprecated. If you meant to do this, you must specify 'dtype=object' when creating the ndarray.\n"
          ]
        },
        {
          "name": "stdout",
          "output_type": "stream",
          "text": [
            "episode: 26/500, reward: 17.0, e: 0.16538114245489302  Game Score: 17\n",
            "episode: 27/500, reward: 21.0, e: 0.14960551470448571  Game Score: 21\n",
            "episode: 28/500, reward: 17.0, e: 0.13807558583895513  Game Score: 17\n",
            "episode: 29/500, reward: 19.0, e: 0.1261630989318213  Game Score: 19\n",
            "episode: 30/500, reward: 11.0, e: 0.11999500148501063  Game Score: 11\n",
            "episode: 31/500, reward: 9.0, e: 0.11527836319047392  Game Score: 9\n",
            "episode: 32/500, reward: 10.0, e: 0.11019338598389174  Game Score: 10\n",
            "episode: 33/500, reward: 10.0, e: 0.10533270926593409  Game Score: 10\n",
            "episode: 34/500, reward: 10.0, e: 0.10068643904747315  Game Score: 10\n",
            "episode: 35/500, reward: 10.0, e: 0.09624511776741324  Game Score: 10\n",
            "episode: 36/500, reward: 15.0, e: 0.08972259762946533  Game Score: 15\n",
            "episode: 37/500, reward: 23.0, e: 0.08035439121179945  Game Score: 23\n",
            "episode: 38/500, reward: 19.0, e: 0.07342180695061275  Game Score: 19\n",
            "episode: 39/500, reward: 21.0, e: 0.06641813604822402  Game Score: 21\n",
            "episode: 40/500, reward: 27.0, e: 0.05830244700006734  Game Score: 27\n",
            "episode: 41/500, reward: 32.0, e: 0.049911691230058335  Game Score: 32\n",
            "episode: 42/500, reward: 33.0, e: 0.04251487140556204  Game Score: 33\n",
            "episode: 43/500, reward: 83.0, e: 0.028186002814352063  Game Score: 83\n",
            "episode: 44/500, reward: 37.0, e: 0.023532301163728918  Game Score: 37\n",
            "episode: 45/500, reward: 51.0, e: 0.01831548549245123  Game Score: 51\n",
            "episode: 46/500, reward: 58.0, e: 0.013763663225419333  Game Score: 58\n",
            "episode: 47/500, reward: 47.0, e: 0.010929385683282892  Game Score: 47\n",
            "episode: 48/500, reward: 15.0, e: 0.010188702520663827  Game Score: 15\n",
            "episode: 49/500, reward: 13.0, e: 0.009593914666323049  Game Score: 13\n",
            "episode: 50/500, reward: 22.0, e: 0.00863536197524611  Game Score: 22\n",
            "INFO:tensorflow:Assets written to: my_model/assets\n",
            "-------- Model Saved ----\n"
          ]
        },
        {
          "name": "stderr",
          "output_type": "stream",
          "text": [
            "/usr/local/lib/python3.7/dist-packages/ipykernel_launcher.py:60: VisibleDeprecationWarning: Creating an ndarray from ragged nested sequences (which is a list-or-tuple of lists-or-tuples-or ndarrays with different lengths or shapes) is deprecated. If you meant to do this, you must specify 'dtype=object' when creating the ndarray.\n"
          ]
        },
        {
          "name": "stdout",
          "output_type": "stream",
          "text": [
            "episode: 51/500, reward: 16.0, e: 0.008009893802752034  Game Score: 16\n",
            "episode: 52/500, reward: 14.0, e: 0.007504587192205264  Game Score: 14\n",
            "episode: 53/500, reward: 58.0, e: 0.005639523495125475  Game Score: 58\n",
            "episode: 54/500, reward: 50.0, e: 0.004411368796120392  Game Score: 50\n",
            "episode: 55/500, reward: 20.0, e: 0.004010623563142642  Game Score: 20\n",
            "episode: 56/500, reward: 41.0, e: 0.003281973959567276  Game Score: 41\n",
            "episode: 57/500, reward: 18.0, e: 0.003013890735780812  Game Score: 18\n",
            "episode: 58/500, reward: 43.0, e: 0.002441725815522529  Game Score: 43\n",
            "episode: 59/500, reward: 42.0, e: 0.001988122798038272  Game Score: 42\n",
            "episode: 60/500, reward: 88.0, e: 0.0012854382841014063  Game Score: 88\n",
            "episode: 61/500, reward: 72.0, e: 0.0009954703940636294  Game Score: 72\n",
            "episode: 62/500, reward: 103.0, e: 0.0009954703940636294  Game Score: 103\n",
            "episode: 63/500, reward: 52.0, e: 0.0009954703940636294  Game Score: 52\n",
            "episode: 64/500, reward: 64.0, e: 0.0009954703940636294  Game Score: 64\n",
            "episode: 65/500, reward: 88.0, e: 0.0009954703940636294  Game Score: 88\n",
            "episode: 66/500, reward: 51.0, e: 0.0009954703940636294  Game Score: 51\n",
            "episode: 67/500, reward: 33.0, e: 0.0009954703940636294  Game Score: 33\n",
            "episode: 68/500, reward: 36.0, e: 0.0009954703940636294  Game Score: 36\n",
            "episode: 69/500, reward: 54.0, e: 0.0009954703940636294  Game Score: 54\n",
            "episode: 70/500, reward: 59.0, e: 0.0009954703940636294  Game Score: 59\n",
            "episode: 71/500, reward: 46.0, e: 0.0009954703940636294  Game Score: 46\n",
            "episode: 72/500, reward: 61.0, e: 0.0009954703940636294  Game Score: 61\n",
            "episode: 73/500, reward: 82.0, e: 0.0009954703940636294  Game Score: 82\n",
            "episode: 74/500, reward: 115.0, e: 0.0009954703940636294  Game Score: 115\n",
            "episode: 75/500, reward: 53.0, e: 0.0009954703940636294  Game Score: 53\n",
            "INFO:tensorflow:Assets written to: my_model/assets\n",
            "-------- Model Saved ----\n"
          ]
        },
        {
          "name": "stderr",
          "output_type": "stream",
          "text": [
            "/usr/local/lib/python3.7/dist-packages/ipykernel_launcher.py:60: VisibleDeprecationWarning: Creating an ndarray from ragged nested sequences (which is a list-or-tuple of lists-or-tuples-or ndarrays with different lengths or shapes) is deprecated. If you meant to do this, you must specify 'dtype=object' when creating the ndarray.\n"
          ]
        },
        {
          "name": "stdout",
          "output_type": "stream",
          "text": [
            "episode: 76/500, reward: 115.0, e: 0.0009954703940636294  Game Score: 115\n",
            "episode: 77/500, reward: 53.0, e: 0.0009954703940636294  Game Score: 53\n",
            "episode: 78/500, reward: 59.0, e: 0.0009954703940636294  Game Score: 59\n",
            "episode: 79/500, reward: 111.0, e: 0.0009954703940636294  Game Score: 111\n",
            "episode: 80/500, reward: 82.0, e: 0.0009954703940636294  Game Score: 82\n",
            "episode: 81/500, reward: 59.0, e: 0.0009954703940636294  Game Score: 59\n",
            "episode: 82/500, reward: 58.0, e: 0.0009954703940636294  Game Score: 58\n",
            "episode: 83/500, reward: 60.0, e: 0.0009954703940636294  Game Score: 60\n",
            "episode: 84/500, reward: 43.0, e: 0.0009954703940636294  Game Score: 43\n",
            "episode: 85/500, reward: 164.0, e: 0.0009954703940636294  Game Score: 164\n",
            "episode: 86/500, reward: 43.0, e: 0.0009954703940636294  Game Score: 43\n",
            "episode: 87/500, reward: 40.0, e: 0.0009954703940636294  Game Score: 40\n",
            "episode: 88/500, reward: 58.0, e: 0.0009954703940636294  Game Score: 58\n",
            "episode: 89/500, reward: 118.0, e: 0.0009954703940636294  Game Score: 118\n",
            "episode: 90/500, reward: 67.0, e: 0.0009954703940636294  Game Score: 67\n",
            "episode: 91/500, reward: 57.0, e: 0.0009954703940636294  Game Score: 57\n",
            "episode: 92/500, reward: 122.0, e: 0.0009954703940636294  Game Score: 122\n",
            "episode: 93/500, reward: 100.0, e: 0.0009954703940636294  Game Score: 100\n",
            "episode: 94/500, reward: 218.0, e: 0.0009954703940636294  Game Score: 218\n",
            "episode: 95/500, reward: 434.0, e: 0.0009954703940636294  Game Score: 434\n",
            "episode: 96/500, reward: 101.0, e: 0.0009954703940636294  Game Score: 101\n",
            "episode: 97/500, reward: 69.0, e: 0.0009954703940636294  Game Score: 69\n",
            "episode: 98/500, reward: 129.0, e: 0.0009954703940636294  Game Score: 129\n",
            "episode: 99/500, reward: 171.0, e: 0.0009954703940636294  Game Score: 171\n",
            "episode: 100/500, reward: 241.0, e: 0.0009954703940636294  Game Score: 241\n",
            "INFO:tensorflow:Assets written to: my_model/assets\n",
            "-------- Model Saved ----\n"
          ]
        },
        {
          "name": "stderr",
          "output_type": "stream",
          "text": [
            "/usr/local/lib/python3.7/dist-packages/ipykernel_launcher.py:60: VisibleDeprecationWarning: Creating an ndarray from ragged nested sequences (which is a list-or-tuple of lists-or-tuples-or ndarrays with different lengths or shapes) is deprecated. If you meant to do this, you must specify 'dtype=object' when creating the ndarray.\n"
          ]
        },
        {
          "name": "stdout",
          "output_type": "stream",
          "text": [
            "episode: 101/500, reward: 172.0, e: 0.0009954703940636294  Game Score: 172\n",
            "episode: 102/500, reward: 155.0, e: 0.0009954703940636294  Game Score: 155\n",
            "episode: 103/500, reward: 457.0, e: 0.0009954703940636294  Game Score: 457\n"
          ]
        }
      ],
      "source": [
        "#Training\n",
        "rewards = [] #Store rewards for graphing\n",
        "epsilons = [] # Store the Explore/Exploit\n",
        "TEST_Episodes = 0\n",
        "game_score_history = []\n",
        "reward_per_action = {\"0\":[],\"1\":[],\"2\":[],\"3\":[]}\n",
        "for e in range(EPISODES):\n",
        "    state = envCartPole.reset()\n",
        "    state = np.reshape(state, [1, nS]) # Resize to store in memory to pass to .predict\n",
        "    tot_rewards = 0\n",
        "    done = False\n",
        "    game_score = 0\n",
        "    while not(done): #200 is when you \"solve\" the game. This can continue forever as far as I know\n",
        "        action = dqn.action(state)\n",
        "        nstate, reward, done, _ = envCartPole.step(action)\n",
        "        nstate = np.reshape(nstate, [1, nS])\n",
        "        tot_rewards += reward\n",
        "        dqn.store(state, action, reward, nstate, done) # Resize to store in memory to pass to .predict\n",
        "        state = nstate\n",
        "        game_score += 1\n",
        "        #done: CartPole fell. \n",
        "        #time == 209: CartPole stayed upright\n",
        "        if done :\n",
        "            game_score_history.append(game_score)\n",
        "            reward_per_action[str(action)].append(tot_rewards)\n",
        "        \n",
        "            rewards.append(tot_rewards)\n",
        "            epsilons.append(dqn.epsilon)\n",
        "            print(\"episode: {}/{}, reward: {}, e: {}  Game Score: {}\"\n",
        "                  .format(e, EPISODES, tot_rewards, dqn.epsilon,game_score))\n",
        "            break\n",
        "        #Experience Replay\n",
        "        if len(dqn.memory) > batch_size:\n",
        "            dqn.experience_replay(batch_size)\n",
        "\n",
        "    #If our current NN passes we are done\n",
        "    #I am going to use the last 5 runs\n",
        "    if e % 25 == 0:\n",
        "      dqn.save_model()\n",
        "    if len(rewards) > 5 and np.average(rewards[-5:]) > 195:\n",
        "        #Set the rest of the EPISODES for testing\n",
        "        TEST_Episodes = EPISODES - e\n",
        "        TRAIN_END = e\n",
        "        break"
      ]
    },
    {
      "cell_type": "markdown",
      "metadata": {
        "id": "Sv3Odzc_iH9P"
      },
      "source": [
        "Testin DQN\n"
      ]
    },
    {
      "cell_type": "code",
      "execution_count": 34,
      "metadata": {
        "colab": {
          "base_uri": "https://localhost:8080/",
          "height": 1000
        },
        "id": "9B3J7E8ujjmf",
        "outputId": "ca76e2ea-f87a-4ba1-ee46-c9f528805601"
      },
      "outputs": [
        {
          "name": "stdout",
          "output_type": "stream",
          "text": [
            "episode: 0/397, score: 500.0, e: 0\n",
            "episode: 1/397, score: 500.0, e: 0\n",
            "episode: 2/397, score: 500.0, e: 0\n",
            "episode: 3/397, score: 500.0, e: 0\n",
            "episode: 4/397, score: 500.0, e: 0\n",
            "episode: 5/397, score: 500.0, e: 0\n",
            "episode: 6/397, score: 346.0, e: 0\n",
            "episode: 7/397, score: 500.0, e: 0\n",
            "episode: 8/397, score: 500.0, e: 0\n",
            "episode: 9/397, score: 500.0, e: 0\n",
            "episode: 10/397, score: 500.0, e: 0\n",
            "episode: 11/397, score: 500.0, e: 0\n",
            "episode: 12/397, score: 500.0, e: 0\n",
            "episode: 13/397, score: 500.0, e: 0\n",
            "episode: 14/397, score: 500.0, e: 0\n",
            "episode: 15/397, score: 500.0, e: 0\n",
            "episode: 16/397, score: 500.0, e: 0\n",
            "episode: 17/397, score: 500.0, e: 0\n",
            "episode: 18/397, score: 253.0, e: 0\n",
            "episode: 19/397, score: 500.0, e: 0\n",
            "episode: 20/397, score: 500.0, e: 0\n",
            "episode: 21/397, score: 310.0, e: 0\n",
            "episode: 22/397, score: 500.0, e: 0\n",
            "episode: 23/397, score: 500.0, e: 0\n",
            "episode: 24/397, score: 500.0, e: 0\n",
            "episode: 25/397, score: 345.0, e: 0\n",
            "episode: 26/397, score: 500.0, e: 0\n",
            "episode: 27/397, score: 500.0, e: 0\n",
            "episode: 28/397, score: 412.0, e: 0\n",
            "episode: 29/397, score: 500.0, e: 0\n",
            "episode: 30/397, score: 500.0, e: 0\n",
            "episode: 31/397, score: 500.0, e: 0\n",
            "episode: 32/397, score: 500.0, e: 0\n",
            "episode: 33/397, score: 500.0, e: 0\n",
            "episode: 34/397, score: 256.0, e: 0\n",
            "episode: 35/397, score: 500.0, e: 0\n",
            "episode: 36/397, score: 500.0, e: 0\n",
            "episode: 37/397, score: 500.0, e: 0\n",
            "episode: 38/397, score: 500.0, e: 0\n",
            "episode: 39/397, score: 500.0, e: 0\n",
            "episode: 40/397, score: 500.0, e: 0\n",
            "episode: 41/397, score: 500.0, e: 0\n",
            "episode: 42/397, score: 500.0, e: 0\n",
            "episode: 43/397, score: 500.0, e: 0\n",
            "episode: 44/397, score: 500.0, e: 0\n",
            "episode: 45/397, score: 500.0, e: 0\n",
            "episode: 46/397, score: 356.0, e: 0\n",
            "episode: 47/397, score: 500.0, e: 0\n",
            "episode: 48/397, score: 500.0, e: 0\n",
            "episode: 49/397, score: 500.0, e: 0\n",
            "episode: 50/397, score: 500.0, e: 0\n",
            "episode: 51/397, score: 500.0, e: 0\n",
            "episode: 52/397, score: 304.0, e: 0\n",
            "episode: 53/397, score: 500.0, e: 0\n",
            "episode: 54/397, score: 500.0, e: 0\n",
            "episode: 55/397, score: 500.0, e: 0\n",
            "episode: 56/397, score: 500.0, e: 0\n",
            "episode: 57/397, score: 338.0, e: 0\n",
            "episode: 58/397, score: 500.0, e: 0\n",
            "episode: 59/397, score: 500.0, e: 0\n",
            "episode: 60/397, score: 500.0, e: 0\n",
            "episode: 61/397, score: 500.0, e: 0\n",
            "episode: 62/397, score: 500.0, e: 0\n",
            "episode: 63/397, score: 500.0, e: 0\n",
            "episode: 64/397, score: 500.0, e: 0\n",
            "episode: 65/397, score: 500.0, e: 0\n",
            "episode: 66/397, score: 360.0, e: 0\n",
            "episode: 67/397, score: 500.0, e: 0\n",
            "episode: 68/397, score: 500.0, e: 0\n",
            "episode: 69/397, score: 500.0, e: 0\n",
            "episode: 70/397, score: 500.0, e: 0\n",
            "episode: 71/397, score: 382.0, e: 0\n",
            "episode: 72/397, score: 500.0, e: 0\n",
            "episode: 73/397, score: 500.0, e: 0\n",
            "episode: 74/397, score: 500.0, e: 0\n",
            "episode: 75/397, score: 500.0, e: 0\n",
            "episode: 76/397, score: 500.0, e: 0\n",
            "episode: 77/397, score: 500.0, e: 0\n",
            "episode: 78/397, score: 500.0, e: 0\n",
            "episode: 79/397, score: 242.0, e: 0\n",
            "episode: 80/397, score: 500.0, e: 0\n",
            "episode: 81/397, score: 500.0, e: 0\n",
            "episode: 82/397, score: 500.0, e: 0\n",
            "episode: 83/397, score: 500.0, e: 0\n",
            "episode: 84/397, score: 500.0, e: 0\n",
            "episode: 85/397, score: 500.0, e: 0\n",
            "episode: 86/397, score: 500.0, e: 0\n",
            "episode: 87/397, score: 500.0, e: 0\n",
            "episode: 88/397, score: 500.0, e: 0\n",
            "episode: 89/397, score: 286.0, e: 0\n",
            "episode: 90/397, score: 500.0, e: 0\n",
            "episode: 91/397, score: 500.0, e: 0\n",
            "episode: 92/397, score: 500.0, e: 0\n",
            "episode: 93/397, score: 500.0, e: 0\n",
            "episode: 94/397, score: 500.0, e: 0\n",
            "episode: 95/397, score: 500.0, e: 0\n",
            "episode: 96/397, score: 347.0, e: 0\n",
            "episode: 97/397, score: 500.0, e: 0\n",
            "episode: 98/397, score: 500.0, e: 0\n",
            "episode: 99/397, score: 500.0, e: 0\n",
            "episode: 100/397, score: 500.0, e: 0\n",
            "episode: 101/397, score: 500.0, e: 0\n",
            "episode: 102/397, score: 272.0, e: 0\n",
            "episode: 103/397, score: 500.0, e: 0\n",
            "episode: 104/397, score: 500.0, e: 0\n",
            "episode: 105/397, score: 500.0, e: 0\n",
            "episode: 106/397, score: 500.0, e: 0\n",
            "episode: 107/397, score: 500.0, e: 0\n",
            "episode: 108/397, score: 500.0, e: 0\n",
            "episode: 109/397, score: 500.0, e: 0\n",
            "episode: 110/397, score: 500.0, e: 0\n",
            "episode: 111/397, score: 500.0, e: 0\n",
            "episode: 112/397, score: 321.0, e: 0\n",
            "episode: 113/397, score: 348.0, e: 0\n",
            "episode: 114/397, score: 500.0, e: 0\n",
            "episode: 115/397, score: 500.0, e: 0\n",
            "episode: 116/397, score: 500.0, e: 0\n",
            "episode: 117/397, score: 500.0, e: 0\n",
            "episode: 118/397, score: 500.0, e: 0\n",
            "episode: 119/397, score: 500.0, e: 0\n",
            "episode: 120/397, score: 500.0, e: 0\n",
            "episode: 121/397, score: 500.0, e: 0\n",
            "episode: 122/397, score: 500.0, e: 0\n",
            "episode: 123/397, score: 500.0, e: 0\n",
            "episode: 124/397, score: 500.0, e: 0\n",
            "episode: 125/397, score: 500.0, e: 0\n",
            "episode: 126/397, score: 500.0, e: 0\n",
            "episode: 127/397, score: 304.0, e: 0\n",
            "episode: 128/397, score: 500.0, e: 0\n",
            "episode: 129/397, score: 500.0, e: 0\n",
            "episode: 130/397, score: 500.0, e: 0\n",
            "episode: 131/397, score: 500.0, e: 0\n",
            "episode: 132/397, score: 500.0, e: 0\n",
            "episode: 133/397, score: 500.0, e: 0\n",
            "episode: 134/397, score: 500.0, e: 0\n",
            "episode: 135/397, score: 500.0, e: 0\n",
            "episode: 136/397, score: 500.0, e: 0\n",
            "episode: 137/397, score: 500.0, e: 0\n",
            "episode: 138/397, score: 500.0, e: 0\n",
            "episode: 139/397, score: 500.0, e: 0\n",
            "episode: 140/397, score: 500.0, e: 0\n",
            "episode: 141/397, score: 500.0, e: 0\n",
            "episode: 142/397, score: 500.0, e: 0\n",
            "episode: 143/397, score: 500.0, e: 0\n",
            "episode: 144/397, score: 500.0, e: 0\n",
            "episode: 145/397, score: 500.0, e: 0\n",
            "episode: 146/397, score: 500.0, e: 0\n",
            "episode: 147/397, score: 500.0, e: 0\n",
            "episode: 148/397, score: 500.0, e: 0\n",
            "episode: 149/397, score: 500.0, e: 0\n",
            "episode: 150/397, score: 500.0, e: 0\n",
            "episode: 151/397, score: 500.0, e: 0\n",
            "episode: 152/397, score: 500.0, e: 0\n",
            "episode: 153/397, score: 500.0, e: 0\n",
            "episode: 154/397, score: 500.0, e: 0\n",
            "episode: 155/397, score: 500.0, e: 0\n",
            "episode: 156/397, score: 500.0, e: 0\n",
            "episode: 157/397, score: 500.0, e: 0\n",
            "episode: 158/397, score: 500.0, e: 0\n",
            "episode: 159/397, score: 500.0, e: 0\n",
            "episode: 160/397, score: 500.0, e: 0\n",
            "episode: 161/397, score: 500.0, e: 0\n",
            "episode: 162/397, score: 500.0, e: 0\n",
            "episode: 163/397, score: 330.0, e: 0\n",
            "episode: 164/397, score: 421.0, e: 0\n",
            "episode: 165/397, score: 500.0, e: 0\n",
            "episode: 166/397, score: 266.0, e: 0\n",
            "episode: 167/397, score: 500.0, e: 0\n",
            "episode: 168/397, score: 500.0, e: 0\n",
            "episode: 169/397, score: 500.0, e: 0\n",
            "episode: 170/397, score: 500.0, e: 0\n",
            "episode: 171/397, score: 500.0, e: 0\n",
            "episode: 172/397, score: 500.0, e: 0\n",
            "episode: 173/397, score: 500.0, e: 0\n",
            "episode: 174/397, score: 500.0, e: 0\n",
            "episode: 175/397, score: 500.0, e: 0\n",
            "episode: 176/397, score: 500.0, e: 0\n",
            "episode: 177/397, score: 363.0, e: 0\n",
            "episode: 178/397, score: 412.0, e: 0\n",
            "episode: 179/397, score: 500.0, e: 0\n",
            "episode: 180/397, score: 500.0, e: 0\n",
            "episode: 181/397, score: 500.0, e: 0\n",
            "episode: 182/397, score: 500.0, e: 0\n",
            "episode: 183/397, score: 280.0, e: 0\n",
            "episode: 184/397, score: 500.0, e: 0\n",
            "episode: 185/397, score: 500.0, e: 0\n",
            "episode: 186/397, score: 500.0, e: 0\n",
            "episode: 187/397, score: 500.0, e: 0\n",
            "episode: 188/397, score: 500.0, e: 0\n",
            "episode: 189/397, score: 500.0, e: 0\n",
            "episode: 190/397, score: 500.0, e: 0\n",
            "episode: 191/397, score: 500.0, e: 0\n",
            "episode: 192/397, score: 278.0, e: 0\n",
            "episode: 193/397, score: 362.0, e: 0\n",
            "episode: 194/397, score: 500.0, e: 0\n",
            "episode: 195/397, score: 500.0, e: 0\n",
            "episode: 196/397, score: 500.0, e: 0\n",
            "episode: 197/397, score: 500.0, e: 0\n",
            "episode: 198/397, score: 500.0, e: 0\n",
            "episode: 199/397, score: 500.0, e: 0\n",
            "episode: 200/397, score: 500.0, e: 0\n",
            "episode: 201/397, score: 500.0, e: 0\n",
            "episode: 202/397, score: 500.0, e: 0\n",
            "episode: 203/397, score: 500.0, e: 0\n",
            "episode: 204/397, score: 500.0, e: 0\n",
            "episode: 205/397, score: 500.0, e: 0\n",
            "episode: 206/397, score: 500.0, e: 0\n",
            "episode: 207/397, score: 500.0, e: 0\n",
            "episode: 208/397, score: 500.0, e: 0\n",
            "episode: 209/397, score: 500.0, e: 0\n",
            "episode: 210/397, score: 500.0, e: 0\n",
            "episode: 211/397, score: 500.0, e: 0\n",
            "episode: 212/397, score: 500.0, e: 0\n",
            "episode: 213/397, score: 500.0, e: 0\n",
            "episode: 214/397, score: 500.0, e: 0\n",
            "episode: 215/397, score: 500.0, e: 0\n",
            "episode: 216/397, score: 500.0, e: 0\n",
            "episode: 217/397, score: 500.0, e: 0\n",
            "episode: 218/397, score: 500.0, e: 0\n",
            "episode: 219/397, score: 500.0, e: 0\n",
            "episode: 220/397, score: 500.0, e: 0\n",
            "episode: 221/397, score: 500.0, e: 0\n",
            "episode: 222/397, score: 301.0, e: 0\n",
            "episode: 223/397, score: 500.0, e: 0\n",
            "episode: 224/397, score: 500.0, e: 0\n",
            "episode: 225/397, score: 310.0, e: 0\n",
            "episode: 226/397, score: 500.0, e: 0\n",
            "episode: 227/397, score: 500.0, e: 0\n",
            "episode: 228/397, score: 500.0, e: 0\n",
            "episode: 229/397, score: 500.0, e: 0\n",
            "episode: 230/397, score: 500.0, e: 0\n",
            "episode: 231/397, score: 319.0, e: 0\n",
            "episode: 232/397, score: 288.0, e: 0\n",
            "episode: 233/397, score: 413.0, e: 0\n",
            "episode: 234/397, score: 500.0, e: 0\n",
            "episode: 235/397, score: 500.0, e: 0\n",
            "episode: 236/397, score: 406.0, e: 0\n",
            "episode: 237/397, score: 500.0, e: 0\n",
            "episode: 238/397, score: 500.0, e: 0\n",
            "episode: 239/397, score: 402.0, e: 0\n",
            "episode: 240/397, score: 500.0, e: 0\n",
            "episode: 241/397, score: 500.0, e: 0\n",
            "episode: 242/397, score: 500.0, e: 0\n",
            "episode: 243/397, score: 500.0, e: 0\n",
            "episode: 244/397, score: 500.0, e: 0\n",
            "episode: 245/397, score: 500.0, e: 0\n",
            "episode: 246/397, score: 344.0, e: 0\n",
            "episode: 247/397, score: 500.0, e: 0\n",
            "episode: 248/397, score: 500.0, e: 0\n",
            "episode: 249/397, score: 500.0, e: 0\n",
            "episode: 250/397, score: 500.0, e: 0\n",
            "episode: 251/397, score: 500.0, e: 0\n",
            "episode: 252/397, score: 317.0, e: 0\n",
            "episode: 253/397, score: 500.0, e: 0\n",
            "episode: 254/397, score: 500.0, e: 0\n",
            "episode: 255/397, score: 500.0, e: 0\n",
            "episode: 256/397, score: 500.0, e: 0\n",
            "episode: 257/397, score: 500.0, e: 0\n",
            "episode: 258/397, score: 500.0, e: 0\n",
            "episode: 259/397, score: 500.0, e: 0\n",
            "episode: 260/397, score: 500.0, e: 0\n",
            "episode: 261/397, score: 500.0, e: 0\n",
            "episode: 262/397, score: 500.0, e: 0\n",
            "episode: 263/397, score: 500.0, e: 0\n"
          ]
        }
      ],
      "source": [
        "#Test the agent that was trained\n",
        "#   In this section we ALWAYS use exploit don't train any more\n",
        "for e_test in range(TEST_Episodes):\n",
        "    state = envCartPole.reset()\n",
        "    state = np.reshape(state, [1, nS])\n",
        "    tot_rewards = 0\n",
        "    done = False\n",
        "    while not (done):\n",
        "        action = dqn.test_action(state)\n",
        "        nstate, reward, done, _ = envCartPole.step(action)\n",
        "        nstate = np.reshape( nstate, [1, nS])\n",
        "        tot_rewards += reward\n",
        "        #DON'T STORE ANYTHING DURING TESTING\n",
        "        state = nstate\n",
        "        #done: CartPole fell. \n",
        "        #t_test == 209: CartPole stayed upright\n",
        "        if done : \n",
        "            rewards.append(tot_rewards)\n",
        "            epsilons.append(0) #We are doing full exploit\n",
        "            print(\"episode: {}/{}, score: {}, e: {}\"\n",
        "                  .format(e_test, TEST_Episodes, tot_rewards, 0))\n",
        "            break;"
      ]
    },
    {
      "cell_type": "markdown",
      "metadata": {
        "id": "w4A6pfAzgPKQ"
      },
      "source": [
        "Save Results"
      ]
    },
    {
      "cell_type": "code",
      "execution_count": 35,
      "metadata": {
        "colab": {
          "base_uri": "https://localhost:8080/"
        },
        "id": "n9_A2MNygSXI",
        "outputId": "0f1ea93b-bedc-4c5c-dae6-286dc1e510de"
      },
      "outputs": [
        {
          "name": "stdout",
          "output_type": "stream",
          "text": [
            "INFO:tensorflow:Assets written to: ram://661b5180-b4f8-4099-8cb6-350ac3f6fe91/assets\n"
          ]
        }
      ],
      "source": [
        "import pickle as pk\n",
        "filehandler = open(b\"dqn.pk\",\"wb\")\n",
        "pk.dump(dqn,filehandler)\n",
        "filehandler = open(b\"tot_rewards.pk\",\"wb\")\n",
        "\n",
        "pk.dump(rewards,filehandler)\n",
        "filehandler = open(b\"game_score.pk\",\"wb\")\n",
        "\n",
        "pk.dump(game_score_history,filehandler)\n",
        "filehandler = open(b\"reward_per_action.pk\",\"wb\")\n",
        "\n",
        "pk.dump(reward_per_action,filehandler)\n"
      ]
    },
    {
      "cell_type": "code",
      "execution_count": null,
      "metadata": {
        "id": "PE2p_EFlgOCK"
      },
      "outputs": [],
      "source": []
    },
    {
      "cell_type": "markdown",
      "metadata": {
        "id": "kLwNfayIeyqN"
      },
      "source": [
        "Ploting Section For DQN\n"
      ]
    },
    {
      "cell_type": "code",
      "execution_count": 37,
      "metadata": {
        "colab": {
          "base_uri": "https://localhost:8080/",
          "height": 265
        },
        "id": "W5NXNhstexMF",
        "outputId": "430980b5-933c-4d83-c95a-c35262692cd0"
      },
      "outputs": [
        {
          "data": {
            "image/png": "[encoded data removed]",
            "text/plain": [
              "<Figure size 432x288 with 1 Axes>"
            ]
          },
          "metadata": {
            "needs_background": "light"
          },
          "output_type": "display_data"
        }
      ],
      "source": [
        "rolling_average = np.convolve(rewards, np.ones(100)/100)\n",
        "\n",
        "plt.plot(rewards)\n",
        "plt.plot(rolling_average, color='black')\n",
        "plt.axhline(y=195, color='r', linestyle='-') #Solved Line\n",
        "#Scale Epsilon (0.001 - 1.0) to match reward (0 - 200) range\n",
        "eps_graph = [200*x for x in epsilons]\n",
        "plt.plot(eps_graph, color='g', linestyle='-')\n",
        "#Plot the line where TESTING begins\n",
        "plt.axvline(x=TRAIN_END, color='y', linestyle='-')\n",
        "plt.xlim( (0,EPISODES) )\n",
        "plt.ylim( (0,220) )\n",
        "plt.show()\n",
        "\n",
        "\n",
        "envCartPole.close()"
      ]
    },
    {
      "cell_type": "code",
      "execution_count": 39,
      "metadata": {
        "id": "rQnchKAWIdIq"
      },
      "outputs": [],
      "source": [
        "loss = [item['loss'][0] for item in dqn.loss]"
      ]
    },
    {
      "cell_type": "code",
      "execution_count": 40,
      "metadata": {
        "colab": {
          "base_uri": "https://localhost:8080/",
          "height": 313
        },
        "id": "IcUluvPVe3DG",
        "outputId": "2a31a38c-efcc-4d65-80ed-5b2391e0b906"
      },
      "outputs": [
        {
          "data": {
            "text/plain": [
              "Text(0.5, 0, 'EPISODS')"
            ]
          },
          "execution_count": 40,
          "metadata": {},
          "output_type": "execute_result"
        },
        {
          "data": {
            "image/png": "[encoded data removed]",
            "text/plain": [
              "<Figure size 432x288 with 1 Axes>"
            ]
          },
          "metadata": {
            "needs_background": "light"
          },
          "output_type": "display_data"
        }
      ],
      "source": [
        "mse_average = np.convolve(loss, np.ones(100)/100)\n",
        "\n",
        "#plt.plot(dqn.loss)\n",
        "plt.plot(mse_average, color='black',)\n",
        "plt.title('Average of Mean-Square-Error FOR DQN')\n",
        "plt.ylabel('AVG MSE')\n",
        "plt.xlabel('EPISODS')\n",
        "\n"
      ]
    },
    {
      "cell_type": "markdown",
      "metadata": {
        "id": "YT5RgGkAGqGw"
      },
      "source": []
    },
    {
      "cell_type": "code",
      "execution_count": 41,
      "metadata": {
        "colab": {
          "base_uri": "https://localhost:8080/",
          "height": 313
        },
        "id": "wQUGJphke3GZ",
        "outputId": "835b81d6-5cb8-4167-9cdb-260ffdf430e4"
      },
      "outputs": [
        {
          "data": {
            "text/plain": [
              "Text(0.5, 0, 'EPISODS')"
            ]
          },
          "execution_count": 41,
          "metadata": {},
          "output_type": "execute_result"
        },
        {
          "data": {
            "image/png": "[encoded data removed]",
            "text/plain": [
              "<Figure size 432x288 with 1 Axes>"
            ]
          },
          "metadata": {
            "needs_background": "light"
          },
          "output_type": "display_data"
        }
      ],
      "source": [
        "plt.plot(loss, color='black',)\n",
        "plt.title('Mean-Square-Error FOR DQN')\n",
        "plt.ylabel('MSE')\n",
        "plt.xlabel('EPISODS')\n",
        "\n"
      ]
    },
    {
      "cell_type": "code",
      "execution_count": 42,
      "metadata": {
        "colab": {
          "base_uri": "https://localhost:8080/",
          "height": 313
        },
        "id": "D9yUlWTv_gxx",
        "outputId": "a926c160-488f-4b9c-c1de-2919623958e5"
      },
      "outputs": [
        {
          "data": {
            "text/plain": [
              "Text(0.5, 0, 'EPISODS')"
            ]
          },
          "execution_count": 42,
          "metadata": {},
          "output_type": "execute_result"
        },
        {
          "data": {
            "image/png": "[encoded data removed]",
            "text/plain": [
              "<Figure size 432x288 with 1 Axes>"
            ]
          },
          "metadata": {
            "needs_background": "light"
          },
          "output_type": "display_data"
        }
      ],
      "source": [
        "AVG_average = np.convolve(rewards, np.ones(100)/100)\n",
        "\n",
        "plt.plot(AVG_average, color='black',)\n",
        "plt.title('Average Rewards FOR DQN')\n",
        "plt.ylabel('AVG Rewards')\n",
        "plt.xlabel('EPISODS')\n",
        "\n"
      ]
    },
    {
      "cell_type": "code",
      "execution_count": 43,
      "metadata": {
        "colab": {
          "base_uri": "https://localhost:8080/",
          "height": 313
        },
        "id": "K5ByF0H1e7-R",
        "outputId": "bd8db4f2-8416-426b-d4c4-0c0d1866832d"
      },
      "outputs": [
        {
          "data": {
            "text/plain": [
              "Text(0.5, 0, 'EPISODS')"
            ]
          },
          "execution_count": 43,
          "metadata": {},
          "output_type": "execute_result"
        },
        {
          "data": {
            "image/png": "[encoded data removed]",
            "text/plain": [
              "<Figure size 432x288 with 1 Axes>"
            ]
          },
          "metadata": {
            "needs_background": "light"
          },
          "output_type": "display_data"
        }
      ],
      "source": [
        "plt.plot(rewards, color='black',)\n",
        "plt.title('Rewards FOR DQN')\n",
        "plt.ylabel('Rewards')\n",
        "plt.xlabel('EPISODS')\n",
        "\n"
      ]
    },
    {
      "cell_type": "code",
      "execution_count": 44,
      "metadata": {
        "colab": {
          "base_uri": "https://localhost:8080/",
          "height": 283
        },
        "id": "dyVD14M1I0zy",
        "outputId": "35cabb79-10c6-4935-ad85-fee1b167408d"
      },
      "outputs": [
        {
          "data": {
            "text/plain": [
              "(-1.0, 2.0)"
            ]
          },
          "execution_count": 44,
          "metadata": {},
          "output_type": "execute_result"
        },
        {
          "data": {
            "image/png": "[encoded data removed]",
            "text/plain": [
              "<Figure size 432x288 with 1 Axes>"
            ]
          },
          "metadata": {
            "needs_background": "light"
          },
          "output_type": "display_data"
        }
      ],
      "source": [
        "import matplotlib.pyplot as plt\n",
        "import numpy as np\n",
        "\n",
        "# construct some data like what you have:\n",
        "for key in [\"0\",\"1\"]:\n",
        "  \n",
        "  mins = min(reward_per_action[key])\n",
        "  maxes = max(reward_per_action[key])\n",
        "  means = sum(reward_per_action[key]) / len(reward_per_action[key])\n",
        "  \n",
        "  # create stacked errorbars:\n",
        "  plt.errorbar(np.arange(2), means, fmt='ok', lw=3)\n",
        "  #plt.errorbar(np.arange(2), means, [means - mins, maxes - means],fmt='.k', ecolor='gray', lw=1)\n",
        "plt.xlim(-1, 2)"
      ]
    },
    {
      "cell_type": "markdown",
      "metadata": {
        "id": "-UeBeDN9-qkH"
      },
      "source": [
        "Double DQN implementation"
      ]
    },
    {
      "cell_type": "code",
      "execution_count": 4,
      "metadata": {
        "colab": {
          "base_uri": "https://localhost:8080/",
          "height": 1000
        },
        "id": "NYpgwTCj1fhk",
        "outputId": "7eb2740f-0d3b-4307-8fd0-58c0340d2676"
      },
      "outputs": [
        {
          "name": "stdout",
          "output_type": "stream",
          "text": [
            "Model: \"sequential_2\"\n",
            "_________________________________________________________________\n",
            " Layer (type)                Output Shape              Param #   \n",
            "=================================================================\n",
            " dense_6 (Dense)             (None, 24)                120       \n",
            "                                                                 \n",
            " dense_7 (Dense)             (None, 24)                600       \n",
            "                                                                 \n",
            " dense_8 (Dense)             (None, 2)                 50        \n",
            "                                                                 \n",
            "=================================================================\n",
            "Total params: 770\n",
            "Trainable params: 770\n",
            "Non-trainable params: 0\n",
            "_________________________________________________________________\n",
            "Model: \"sequential_3\"\n",
            "_________________________________________________________________\n",
            " Layer (type)                Output Shape              Param #   \n",
            "=================================================================\n",
            " dense_9 (Dense)             (None, 24)                120       \n",
            "                                                                 \n",
            " dense_10 (Dense)            (None, 24)                600       \n",
            "                                                                 \n",
            " dense_11 (Dense)            (None, 2)                 50        \n",
            "                                                                 \n",
            "=================================================================\n",
            "Total params: 770\n",
            "Trainable params: 770\n",
            "Non-trainable params: 0\n",
            "_________________________________________________________________\n"
          ]
        },
        {
          "name": "stderr",
          "output_type": "stream",
          "text": [
            "/usr/local/lib/python3.7/dist-packages/keras/optimizer_v2/adam.py:105: UserWarning: The `lr` argument is deprecated, use `learning_rate` instead.\n",
            "  super(Adam, self).__init__(name, **kwargs)\n"
          ]
        },
        {
          "name": "stdout",
          "output_type": "stream",
          "text": [
            "episode: 0   score: 38.0   memory length: 39   epsilon: 0.9617319426784903\n",
            "episode: 1   score: 45.0   memory length: 85   epsilon: 0.9184732224159486\n",
            "episode: 2   score: 17.0   memory length: 103   epsilon: 0.9020804841440176\n",
            "episode: 3   score: 61.0   memory length: 165   epsilon: 0.847823709077432\n",
            "episode: 4   score: 19.0   memory length: 185   epsilon: 0.8310273589761736\n",
            "episode: 5   score: 35.0   memory length: 221   epsilon: 0.8016280363938307\n",
            "episode: 6   score: 67.0   memory length: 289   epsilon: 0.7489039087598284\n",
            "episode: 7   score: 24.0   memory length: 314   epsilon: 0.7304042691684477\n",
            "episode: 8   score: 29.0   memory length: 344   epsilon: 0.7088069214222238\n",
            "episode: 9   score: 9.0   memory length: 354   epsilon: 0.7017506636113059\n",
            "episode: 10   score: 9.0   memory length: 364   epsilon: 0.6947646516921667\n",
            "episode: 11   score: 10.0   memory length: 375   epsilon: 0.6871603381721801\n",
            "episode: 12   score: 12.0   memory length: 388   epsilon: 0.6782806562448989\n",
            "episode: 13   score: 12.0   memory length: 401   epsilon: 0.6695157201007336\n",
            "episode: 14   score: 10.0   memory length: 412   epsilon: 0.6621877602947683\n",
            "episode: 15   score: 27.0   memory length: 440   epsilon: 0.6438946541462667\n",
            "episode: 16   score: 24.0   memory length: 465   epsilon: 0.6279889833423202\n",
            "episode: 17   score: 20.0   memory length: 486   epsilon: 0.6149322608990545\n",
            "episode: 18   score: 17.0   memory length: 504   epsilon: 0.6039570649304998\n",
            "episode: 19   score: 34.0   memory length: 539   epsilon: 0.5831740006406804\n",
            "episode: 20   score: 12.0   memory length: 552   epsilon: 0.5756380598328571\n",
            "episode: 21   score: 8.0   memory length: 561   epsilon: 0.5704779919833761\n",
            "episode: 22   score: 12.0   memory length: 574   epsilon: 0.5631061126214196\n",
            "episode: 23   score: 13.0   memory length: 588   epsilon: 0.5552736652928869\n",
            "episode: 24   score: 21.0   memory length: 610   epsilon: 0.5431850617989273\n",
            "episode: 25   score: 10.0   memory length: 621   epsilon: 0.5372398118510032\n",
            "episode: 26   score: 18.0   memory length: 640   epsilon: 0.5271236049243919\n",
            "episode: 27   score: 9.0   memory length: 650   epsilon: 0.5218760262931003\n",
            "episode: 28   score: 9.0   memory length: 660   epsilon: 0.5166806879356919\n",
            "episode: 29   score: 14.0   memory length: 675   epsilon: 0.508984494702897\n",
            "episode: 30   score: 12.0   memory length: 688   epsilon: 0.5024072518560504\n",
            "episode: 31   score: 9.0   memory length: 698   epsilon: 0.4974057274803321\n",
            "episode: 32   score: 12.0   memory length: 711   epsilon: 0.4909781087667989\n",
            "episode: 33   score: 9.0   memory length: 721   epsilon: 0.48609036287963414\n",
            "episode: 34   score: 11.0   memory length: 733   epsilon: 0.48028925378937887\n",
            "episode: 35   score: 18.0   memory length: 752   epsilon: 0.471245423885521\n",
            "episode: 36   score: 15.0   memory length: 768   epsilon: 0.4637617835123936\n",
            "episode: 37   score: 14.0   memory length: 783   epsilon: 0.4568538413670094\n",
            "episode: 38   score: 9.0   memory length: 793   epsilon: 0.4523058066495642\n",
            "episode: 39   score: 14.0   memory length: 808   epsilon: 0.4455685064764183\n",
            "episode: 40   score: 11.0   memory length: 820   epsilon: 0.4402509941152613\n",
            "episode: 41   score: 27.0   memory length: 848   epsilon: 0.42808894786458934\n",
            "episode: 42   score: 10.0   memory length: 859   epsilon: 0.4234034438366067\n",
            "episode: 43   score: 17.0   memory length: 877   epsilon: 0.41584661836923925\n",
            "episode: 44   score: 9.0   memory length: 887   epsilon: 0.41170681546900234\n",
            "episode: 45   score: 13.0   memory length: 901   epsilon: 0.4059802359226587\n",
            "episode: 46   score: 15.0   memory length: 917   epsilon: 0.3995330431643887\n",
            "episode: 47   score: 15.0   memory length: 933   epsilon: 0.3931882354258422\n",
            "episode: 48   score: 9.0   memory length: 943   epsilon: 0.38927399944206015\n",
            "episode: 49   score: 25.0   memory length: 969   epsilon: 0.379278383188116\n",
            "episode: 50   score: 16.0   memory length: 986   epsilon: 0.37288197552507135\n",
            "episode: 51   score: 10.0   memory length: 997   epsilon: 0.3688007209003024\n",
            "episode: 52   score: 18.0   memory length: 1016   epsilon: 0.36185621618376534\n",
            "episode: 53   score: 9.0   memory length: 1026   epsilon: 0.35825389420480874\n",
            "episode: 54   score: 45.0   memory length: 1072   epsilon: 0.3421396275316961\n",
            "episode: 55   score: 39.0   memory length: 1112   epsilon: 0.3287175620446999\n",
            "episode: 56   score: 16.0   memory length: 1129   epsilon: 0.3231738463307536\n",
            "episode: 57   score: 50.0   memory length: 1180   epsilon: 0.30709737673437937\n",
            "episode: 58   score: 19.0   memory length: 1200   epsilon: 0.3010134290933992\n",
            "episode: 59   score: 26.0   memory length: 1227   epsilon: 0.2929908470157829\n",
            "episode: 60   score: 20.0   memory length: 1248   epsilon: 0.28689917937610226\n",
            "episode: 61   score: 16.0   memory length: 1265   epsilon: 0.28206071720470993\n",
            "episode: 62   score: 15.0   memory length: 1281   epsilon: 0.27758143557361825\n",
            "episode: 63   score: 22.0   memory length: 1304   epsilon: 0.27126680151057403\n",
            "episode: 64   score: 18.0   memory length: 1323   epsilon: 0.266158857095684\n",
            "episode: 65   score: 57.0   memory length: 1381   epsilon: 0.25115350309155987\n",
            "episode: 66   score: 26.0   memory length: 1408   epsilon: 0.24445978315121886\n",
            "episode: 67   score: 62.0   memory length: 1471   epsilon: 0.2295266829410795\n",
            "episode: 68   score: 23.0   memory length: 1495   epsilon: 0.22408092978220462\n",
            "episode: 69   score: 25.0   memory length: 1521   epsilon: 0.21832707263495027\n",
            "episode: 70   score: 21.0   memory length: 1543   epsilon: 0.21357397595839755\n",
            "episode: 71   score: 24.0   memory length: 1568   epsilon: 0.20829821022248174\n",
            "episode: 72   score: 21.0   memory length: 1590   epsilon: 0.20376344722313644\n",
            "episode: 73   score: 69.0   memory length: 1660   epsilon: 0.1899811250214681\n",
            "episode: 74   score: 51.0   memory length: 1712   epsilon: 0.18034987385199636\n",
            "episode: 75   score: 59.0   memory length: 1772   epsilon: 0.169842016093799\n",
            "episode: 76   score: 42.0   memory length: 1815   epsilon: 0.16269010151972138\n",
            "episode: 77   score: 95.0   memory length: 1911   epsilon: 0.14779100412968604\n",
            "episode: 78   score: 67.0   memory length: 1979   epsilon: 0.1380705958965304\n",
            "episode: 79   score: 56.0   memory length: 2000   epsilon: 0.13041694662196698\n",
            "episode: 80   score: 54.0   memory length: 2000   epsilon: 0.12343430626431463\n",
            "episode: 81   score: 68.0   memory length: 2000   epsilon: 0.1152005541340586\n",
            "episode: 82   score: 314.0   memory length: 2000   epsilon: 0.08405883357353715\n",
            "episode: 83   score: 173.0   memory length: 2000   epsilon: 0.07062822804962023\n",
            "episode: 84   score: 80.0   memory length: 2000   epsilon: 0.06513026675614321\n",
            "episode: 85   score: 205.0   memory length: 2000   epsilon: 0.052999702460359455\n",
            "episode: 86   score: 500.0   memory length: 2000   epsilon: 0.03213790365586953\n",
            "episode: 87   score: 500.0   memory length: 2000   epsilon: 0.01948774810889657\n",
            "episode: 88   score: 500.0   memory length: 2000   epsilon: 0.011816960135993256\n",
            "episode: 89   score: 421.0   memory length: 2000   epsilon: 0.009998671593271896\n",
            "episode: 90   score: 500.0   memory length: 2000   epsilon: 0.009998671593271896\n",
            "episode: 91   score: 462.0   memory length: 2000   epsilon: 0.009998671593271896\n",
            "episode: 92   score: 440.0   memory length: 2000   epsilon: 0.009998671593271896\n",
            "episode: 93   score: 317.0   memory length: 2000   epsilon: 0.009998671593271896\n",
            "episode: 94   score: 500.0   memory length: 2000   epsilon: 0.009998671593271896\n",
            "episode: 95   score: 500.0   memory length: 2000   epsilon: 0.009998671593271896\n",
            "episode: 96   score: 500.0   memory length: 2000   epsilon: 0.009998671593271896\n",
            "episode: 97   score: 470.0   memory length: 2000   epsilon: 0.009998671593271896\n",
            "episode: 98   score: 231.0   memory length: 2000   epsilon: 0.009998671593271896\n",
            "episode: 99   score: 500.0   memory length: 2000   epsilon: 0.009998671593271896\n",
            "episode: 100   score: 500.0   memory length: 2000   epsilon: 0.009998671593271896\n",
            "episode: 101   score: 500.0   memory length: 2000   epsilon: 0.009998671593271896\n",
            "episode: 102   score: 423.0   memory length: 2000   epsilon: 0.009998671593271896\n",
            "episode: 103   score: 189.0   memory length: 2000   epsilon: 0.009998671593271896\n",
            "episode: 104   score: 236.0   memory length: 2000   epsilon: 0.009998671593271896\n",
            "episode: 105   score: 446.0   memory length: 2000   epsilon: 0.009998671593271896\n",
            "episode: 106   score: 175.0   memory length: 2000   epsilon: 0.009998671593271896\n",
            "episode: 107   score: 500.0   memory length: 2000   epsilon: 0.009998671593271896\n",
            "episode: 108   score: 264.0   memory length: 2000   epsilon: 0.009998671593271896\n",
            "episode: 109   score: 500.0   memory length: 2000   epsilon: 0.009998671593271896\n",
            "episode: 110   score: 248.0   memory length: 2000   epsilon: 0.009998671593271896\n",
            "episode: 111   score: 346.0   memory length: 2000   epsilon: 0.009998671593271896\n",
            "episode: 112   score: 388.0   memory length: 2000   epsilon: 0.009998671593271896\n",
            "episode: 113   score: 334.0   memory length: 2000   epsilon: 0.009998671593271896\n",
            "episode: 114   score: 336.0   memory length: 2000   epsilon: 0.009998671593271896\n",
            "episode: 115   score: 500.0   memory length: 2000   epsilon: 0.009998671593271896\n",
            "episode: 116   score: 500.0   memory length: 2000   epsilon: 0.009998671593271896\n",
            "episode: 117   score: 500.0   memory length: 2000   epsilon: 0.009998671593271896\n",
            "episode: 118   score: 500.0   memory length: 2000   epsilon: 0.009998671593271896\n",
            "episode: 119   score: 500.0   memory length: 2000   epsilon: 0.009998671593271896\n",
            "episode: 120   score: 500.0   memory length: 2000   epsilon: 0.009998671593271896\n",
            "episode: 121   score: 500.0   memory length: 2000   epsilon: 0.009998671593271896\n",
            "episode: 122   score: 500.0   memory length: 2000   epsilon: 0.009998671593271896\n",
            "episode: 123   score: 500.0   memory length: 2000   epsilon: 0.009998671593271896\n",
            "episode: 124   score: 500.0   memory length: 2000   epsilon: 0.009998671593271896\n"
          ]
        },
        {
          "ename": "SystemExit",
          "evalue": "ignored",
          "output_type": "error",
          "traceback": [
            "An exception has occurred, use %tb to see the full traceback.\n",
            "\u001b[0;31mSystemExit\u001b[0m\n"
          ]
        },
        {
          "name": "stderr",
          "output_type": "stream",
          "text": [
            "/usr/local/lib/python3.7/dist-packages/IPython/core/interactiveshell.py:2890: UserWarning: To exit: use 'exit', 'quit', or Ctrl-D.\n",
            "  warn(\"To exit: use 'exit', 'quit', or Ctrl-D.\", stacklevel=1)\n"
          ]
        },
        {
          "data": {
            "image/png": "[encoded data removed]",
            "text/plain": [
              "<Figure size 432x288 with 1 Axes>"
            ]
          },
          "metadata": {
            "needs_background": "light"
          },
          "output_type": "display_data"
        }
      ],
      "source": [
        "import sys\n",
        "import gym\n",
        "import pylab\n",
        "import random\n",
        "import numpy as np\n",
        "from collections import deque\n",
        "from keras.layers import Dense\n",
        "from tensorflow.keras.optimizers import Adam\n",
        "from keras.models import Sequential\n",
        "\n",
        "EPISODES = 300\n",
        "\n",
        "\n",
        "# Double DQN Agent for the Cartpole\n",
        "# it uses Neural Network to approximate q function\n",
        "# and replay memory & target q network\n",
        "class DoubleDQNAgent:\n",
        "    def __init__(self, state_size, action_size):\n",
        "        # if you want to see Cartpole learning, then change to True\n",
        "        self.render = False\n",
        "        self.load_model = False\n",
        "        # get size of state and action\n",
        "        self.state_size = state_size\n",
        "        self.action_size = action_size\n",
        "\n",
        "        # these is hyper parameters for the Double DQN\n",
        "        self.discount_factor = 0.99\n",
        "        self.learning_rate = 0.001\n",
        "        self.epsilon = 1.0\n",
        "        self.epsilon_decay = 0.999\n",
        "        self.epsilon_min = 0.01\n",
        "        self.batch_size = 64\n",
        "        self.train_start = 1000\n",
        "        # create replay memory using deque\n",
        "        self.memory = deque(maxlen=2000)\n",
        "\n",
        "        # create main model and target model\n",
        "        self.model = self.build_model()\n",
        "        self.target_model = self.build_model()\n",
        "        self.loss= []\n",
        "        # initialize target model\n",
        "        self.update_target_model()\n",
        "\n",
        "        if self.load_model:\n",
        "            self.model.load_weights(\"./save_model/cartpole_ddqn.h5\")\n",
        "\n",
        "    # approximate Q function using Neural Network\n",
        "    # state is input and Q Value of each action is output of network\n",
        "    def build_model(self):\n",
        "        model = Sequential()\n",
        "        model.add(Dense(24, input_dim=self.state_size, activation='relu',\n",
        "                        kernel_initializer='he_uniform'))\n",
        "        model.add(Dense(24, activation='relu',\n",
        "                        kernel_initializer='he_uniform'))\n",
        "        model.add(Dense(self.action_size, activation='linear',\n",
        "                        kernel_initializer='he_uniform'))\n",
        "        model.summary()\n",
        "        model.compile(loss='mse', optimizer=Adam(lr=self.learning_rate))\n",
        "        return model\n",
        "\n",
        "    # after some time interval update the target model to be same with model\n",
        "    def update_target_model(self):\n",
        "        self.target_model.set_weights(self.model.get_weights())\n",
        "\n",
        "    # get action from model using epsilon-greedy policy\n",
        "    def get_action(self, state):\n",
        "        if np.random.rand() <= self.epsilon:\n",
        "            return random.randrange(self.action_size)\n",
        "        else:\n",
        "            q_value = self.model.predict(state)\n",
        "            return np.argmax(q_value[0])\n",
        "\n",
        "    # save sample <s,a,r,s'> to the replay memory\n",
        "    def append_sample(self, state, action, reward, next_state, done):\n",
        "        self.memory.append((state, action, reward, next_state, done))\n",
        "        if self.epsilon > self.epsilon_min:\n",
        "            self.epsilon *= self.epsilon_decay\n",
        "\n",
        "    # pick samples randomly from replay memory (with batch_size)\n",
        "    def train_model(self):\n",
        "        if len(self.memory) < self.train_start:\n",
        "            return\n",
        "        batch_size = min(self.batch_size, len(self.memory))\n",
        "        mini_batch = random.sample(self.memory, batch_size)\n",
        "\n",
        "        update_input = np.zeros((batch_size, self.state_size))\n",
        "        update_target = np.zeros((batch_size, self.state_size))\n",
        "        action, reward, done = [], [], []\n",
        "\n",
        "        for i in range(batch_size):\n",
        "            update_input[i] = mini_batch[i][0]\n",
        "            action.append(mini_batch[i][1])\n",
        "            reward.append(mini_batch[i][2])\n",
        "            update_target[i] = mini_batch[i][3]\n",
        "            done.append(mini_batch[i][4])\n",
        "\n",
        "        target = self.model.predict(update_input)\n",
        "        target_next = self.model.predict(update_target)\n",
        "        target_val = self.target_model.predict(update_target)\n",
        "\n",
        "        for i in range(self.batch_size):\n",
        "            # like Q Learning, get maximum Q value at s'\n",
        "            # But from target model\n",
        "            if done[i]:\n",
        "                target[i][action[i]] = reward[i]\n",
        "            else:\n",
        "                # the key point of Double DQN\n",
        "                # selection of action is from model\n",
        "                # update is from target model\n",
        "                a = np.argmax(target_next[i])\n",
        "                target[i][action[i]] = reward[i] + self.discount_factor * (\n",
        "                    target_val[i][a])\n",
        "\n",
        "        # make minibatch which includes target q value and predicted q value\n",
        "        # and do the model fit!\n",
        "        hist = self.model.fit(update_input, target, batch_size=self.batch_size,\n",
        "                       epochs=1, verbose=0)\n",
        "        self.loss.append( hist.history )\n",
        "\n",
        "if __name__ == \"__main__\":\n",
        "    # In case of CartPole-v1, you can play until 500 time step\n",
        "    env = gym.make('CartPole-v1')\n",
        "    # get size of state and action from environment\n",
        "    state_size = env.observation_space.shape[0]\n",
        "    action_size = env.action_space.n\n",
        "\n",
        "    agent = DoubleDQNAgent(state_size, action_size)\n",
        "\n",
        "    scores, episodes = [], []\n",
        "    reward_per_action = {\"0\":[],\"1\":[]}\n",
        "    for e in range(EPISODES):\n",
        "        done = False\n",
        "        score = 0\n",
        "        state = env.reset()\n",
        "        state = np.reshape(state, [1, state_size])\n",
        "\n",
        "        while not done:\n",
        "            if agent.render:\n",
        "                env.render()\n",
        "\n",
        "            # get action for the current state and go one step in environment\n",
        "            action = agent.get_action(state)\n",
        "            next_state, reward, done, info = env.step(action)\n",
        "            reward_per_action[str(action)].append(reward)\n",
        "            next_state = np.reshape(next_state, [1, state_size])\n",
        "            # if an action make the episode end, then gives penalty of -100\n",
        "            reward = reward if not done or score == 499 else -100\n",
        "\n",
        "            # save the sample <s, a, r, s'> to the replay memory\n",
        "            agent.append_sample(state, action, reward, next_state, done)\n",
        "            # every time step do the training\n",
        "            agent.train_model()\n",
        "            score += reward\n",
        "            state = next_state\n",
        "\n",
        "            if done:\n",
        "                # every episode update the target model to be same with model\n",
        "                agent.update_target_model()\n",
        "\n",
        "                # every episode, plot the play time\n",
        "                score = score if score == 500 else score + 100\n",
        "                scores.append(score)\n",
        "                episodes.append(e)\n",
        "                pylab.plot(episodes, scores, 'b')\n",
        "                pylab.savefig(\"./cartpole_ddqn.png\")\n",
        "                print(\"episode:\", e, \"  score:\", score, \"  memory length:\",\n",
        "                      len(agent.memory), \"  epsilon:\", agent.epsilon)\n",
        "\n",
        "                # if the mean of scores of last 10 episode is bigger than 490\n",
        "                # stop training\n",
        "                if np.mean(scores[-min(10, len(scores)):]) > 490:\n",
        "                    sys.exit()\n",
        "\n",
        "        # save the model\n",
        "        if e % 50 == 0:\n",
        "            agent.model.save_weights(\"./cartpole_ddqn.h5\")\n",
        "\n",
        "    import pickle as pk\n",
        "    filehandler = open(b\"Double_dqn.pk\",\"wb\")\n",
        "    pk.dump(agent,filehandler)\n",
        "    \n",
        "    filehandler = open(b\"tot_rewards.pk\",\"wb\")\n",
        "    pk.dump(scores,filehandler)\n",
        "    \n",
        "    filehandler = open(b\"reward_per_action.pk\",\"wb\")\n",
        "    pk.dump(reward_per_action,filehandler)\n",
        "    "
      ]
    },
    {
      "cell_type": "code",
      "execution_count": 6,
      "metadata": {
        "colab": {
          "base_uri": "https://localhost:8080/"
        },
        "id": "rQrMkL0E9LYN",
        "outputId": "99245f8f-38cb-422b-d5d5-bca4be6f68ad"
      },
      "outputs": [
        {
          "name": "stdout",
          "output_type": "stream",
          "text": [
            "INFO:tensorflow:Assets written to: ram://ae52913a-5eb2-431c-b30d-f721c2b9f78c/assets\n",
            "INFO:tensorflow:Assets written to: ram://f95ee055-a61d-4eb6-b7dc-8b336e55346c/assets\n"
          ]
        }
      ],
      "source": [
        "import pickle as pk\n",
        "filehandler = open(b\"Double_dqn.pk\",\"wb\")\n",
        "pk.dump(agent,filehandler)\n",
        "\n",
        "filehandler = open(b\"tot_rewards.pk\",\"wb\")\n",
        "pk.dump(scores,filehandler)\n",
        "\n",
        "filehandler = open(b\"reward_per_action.pk\",\"wb\")\n",
        "pk.dump(reward_per_action,filehandler)\n",
        "    "
      ]
    },
    {
      "cell_type": "markdown",
      "metadata": {
        "id": "JbBKB_Aa90j0"
      },
      "source": [
        "Ploting For Double DQN"
      ]
    },
    {
      "cell_type": "code",
      "execution_count": 11,
      "metadata": {
        "colab": {
          "base_uri": "https://localhost:8080/",
          "height": 265
        },
        "id": "MhS37P269yKI",
        "outputId": "5a1b6b49-df71-4e7e-f7ef-8079789c5064"
      },
      "outputs": [
        {
          "data": {
            "image/png": "[encoded data removed]",
            "text/plain": [
              "<Figure size 432x288 with 1 Axes>"
            ]
          },
          "metadata": {
            "needs_background": "light"
          },
          "output_type": "display_data"
        }
      ],
      "source": [
        "rolling_average = np.convolve(scores, np.ones(100)/100)\n",
        "\n",
        "plt.plot(scores)\n",
        "plt.plot(rolling_average, color='black')\n",
        "plt.axhline(y=195, color='r', linestyle='-') #Solved Line\n",
        "#Scale Epsilon (0.001 - 1.0) to match reward (0 - 200) range\n",
        "#eps_graph = [200*x for x in epsilons]\n",
        "#plt.plot(eps_graph, color='g', linestyle='-')\n",
        "#Plot the line where TESTING begins\n",
        "plt.axvline(x=TRAIN_END, color='y', linestyle='-')\n",
        "plt.xlim( (0,EPISODES) )\n",
        "plt.ylim( (0,220) )\n",
        "plt.show()\n",
        "\n",
        "\n",
        "envCartPole.close()"
      ]
    },
    {
      "cell_type": "code",
      "execution_count": 14,
      "metadata": {
        "id": "zuSuAKKD-UvM"
      },
      "outputs": [],
      "source": [
        "loss = [item['loss'][0] for item in  agent.loss]"
      ]
    },
    {
      "cell_type": "code",
      "execution_count": 15,
      "metadata": {
        "colab": {
          "base_uri": "https://localhost:8080/",
          "height": 313
        },
        "id": "97sZUxc3-M5O",
        "outputId": "7255146b-3e90-4285-a8ab-54c347ad8262"
      },
      "outputs": [
        {
          "data": {
            "text/plain": [
              "Text(0.5, 0, 'EPISODS')"
            ]
          },
          "execution_count": 15,
          "metadata": {},
          "output_type": "execute_result"
        },
        {
          "data": {
            "image/png": "[encoded data removed]",
            "text/plain": [
              "<Figure size 432x288 with 1 Axes>"
            ]
          },
          "metadata": {
            "needs_background": "light"
          },
          "output_type": "display_data"
        }
      ],
      "source": [
        "mse_average = np.convolve(loss, np.ones(100)/100)\n",
        "\n",
        "#plt.plot(dqn.loss)\n",
        "plt.plot(mse_average, color='black',)\n",
        "plt.title('Average of Mean-Square-Error FOR Double DQN')\n",
        "plt.ylabel('AVG MSE')\n",
        "plt.xlabel('EPISODS')\n",
        "\n"
      ]
    },
    {
      "cell_type": "code",
      "execution_count": 21,
      "metadata": {
        "colab": {
          "base_uri": "https://localhost:8080/",
          "height": 313
        },
        "id": "RDY2wIry-n1z",
        "outputId": "c438489d-23ec-4f21-dfe0-02f5e94d0475"
      },
      "outputs": [
        {
          "data": {
            "text/plain": [
              "Text(0.5, 0, 'EPISODS')"
            ]
          },
          "execution_count": 21,
          "metadata": {},
          "output_type": "execute_result"
        },
        {
          "data": {
            "image/png": "[encoded data removed]",
            "text/plain": [
              "<Figure size 432x288 with 1 Axes>"
            ]
          },
          "metadata": {
            "needs_background": "light"
          },
          "output_type": "display_data"
        }
      ],
      "source": [
        "plt.plot(loss, color='black',)\n",
        "plt.title('Mean-Square-Error FOR Double DQN')\n",
        "plt.ylabel('MSE')\n",
        "plt.xlabel('EPISODS')\n",
        "\n"
      ]
    },
    {
      "cell_type": "code",
      "execution_count": 22,
      "metadata": {
        "colab": {
          "base_uri": "https://localhost:8080/",
          "height": 313
        },
        "id": "rB4frekE-qiJ",
        "outputId": "6aaef61b-f407-4e1c-bd61-3600f421567f"
      },
      "outputs": [
        {
          "data": {
            "text/plain": [
              "Text(0.5, 0, 'EPISODS')"
            ]
          },
          "execution_count": 22,
          "metadata": {},
          "output_type": "execute_result"
        },
        {
          "data": {
            "image/png": "[encoded data removed]",
            "text/plain": [
              "<Figure size 432x288 with 1 Axes>"
            ]
          },
          "metadata": {
            "needs_background": "light"
          },
          "output_type": "display_data"
        }
      ],
      "source": [
        "AVG_average = np.convolve(scores, np.ones(100)/100)\n",
        "\n",
        "plt.plot(AVG_average, color='black',)\n",
        "plt.title('Average Rewards FOR Double DQN')\n",
        "plt.ylabel('AVG Rewards')\n",
        "plt.xlabel('EPISODS')\n",
        "\n"
      ]
    },
    {
      "cell_type": "code",
      "execution_count": 23,
      "metadata": {
        "colab": {
          "base_uri": "https://localhost:8080/",
          "height": 313
        },
        "id": "EjbCzmnb-wKE",
        "outputId": "20f3c98a-040f-4647-b18d-b2ed16f118f9"
      },
      "outputs": [
        {
          "data": {
            "text/plain": [
              "Text(0.5, 0, 'EPISODS')"
            ]
          },
          "execution_count": 23,
          "metadata": {},
          "output_type": "execute_result"
        },
        {
          "data": {
            "image/png": "[encoded data removed]",
            "text/plain": [
              "<Figure size 432x288 with 1 Axes>"
            ]
          },
          "metadata": {
            "needs_background": "light"
          },
          "output_type": "display_data"
        }
      ],
      "source": [
        "plt.plot(scores, color='black',)\n",
        "plt.title('Rewards FOR Double DQN')\n",
        "plt.ylabel('Rewards')\n",
        "plt.xlabel('EPISODS')\n",
        "\n"
      ]
    },
    {
      "cell_type": "code",
      "execution_count": 35,
      "metadata": {
        "colab": {
          "base_uri": "https://localhost:8080/",
          "height": 283
        },
        "id": "tubca3dz-qly",
        "outputId": "2eff1d1b-8a84-4617-b972-8a9ddd731382"
      },
      "outputs": [
        {
          "data": {
            "text/plain": [
              "(-1.0, 2.0)"
            ]
          },
          "execution_count": 35,
          "metadata": {},
          "output_type": "execute_result"
        },
        {
          "data": {
            "image/png": "[encoded data removed]",
            "text/plain": [
              "<Figure size 432x288 with 1 Axes>"
            ]
          },
          "metadata": {
            "needs_background": "light"
          },
          "output_type": "display_data"
        }
      ],
      "source": [
        "import matplotlib.pyplot as plt\n",
        "import numpy as np\n",
        "\n",
        "# construct some data like what you have:\n",
        "for key in reward_per_action.keys():\n",
        "  \n",
        "  mins = min(reward_per_action[key])\n",
        "  maxes = max(reward_per_action[key])\n",
        "  means = sum(reward_per_action[key]) / len(reward_per_action[key])\n",
        "  \n",
        "  # create stacked errorbars:\n",
        "  plt.errorbar(np.arange(2), means, fmt='ok', lw=3)\n",
        "  #plt.errorbar(np.arange(2), means, [means - mins, maxes - means],fmt='.k', ecolor='gray', lw=1)\n",
        "plt.xlim(-1, 2)"
      ]
    },
    {
      "cell_type": "code",
      "execution_count": null,
      "metadata": {
        "id": "0W16fBxq1gKg"
      },
      "outputs": [],
      "source": [
        "# Try Number @"
      ]
    },
    {
      "cell_type": "markdown",
      "metadata": {
        "id": "6FymdE3I-vfX"
      },
      "source": [
        "Duael DQN Implementation"
      ]
    },
    {
      "cell_type": "code",
      "execution_count": 7,
      "metadata": {
        "colab": {
          "base_uri": "https://localhost:8080/",
          "height": 1000
        },
        "id": "UTbWoB7b-zAG",
        "outputId": "8656b04d-0d8e-4f79-9f94-8c565a97f812"
      },
      "outputs": [
        {
          "name": "stdout",
          "output_type": "stream",
          "text": [
            "Ep 0\tMoving average score: 9.00\t\n",
            "Ep 10\tMoving average score: 10.00\t\n",
            "learn begin!\n",
            "Ep 20\tMoving average score: 12.00\t\n",
            "Ep 30\tMoving average score: 10.00\t\n",
            "Ep 40\tMoving average score: 11.00\t\n",
            "Ep 50\tMoving average score: 8.00\t\n",
            "Ep 60\tMoving average score: 11.00\t\n",
            "Ep 70\tMoving average score: 10.00\t\n",
            "Ep 80\tMoving average score: 11.00\t\n",
            "Ep 90\tMoving average score: 11.00\t\n",
            "Ep 100\tMoving average score: 9.00\t\n",
            "Ep 110\tMoving average score: 12.00\t\n",
            "Ep 120\tMoving average score: 11.00\t\n",
            "Ep 130\tMoving average score: 10.00\t\n",
            "Ep 140\tMoving average score: 14.00\t\n",
            "Ep 150\tMoving average score: 15.00\t\n",
            "Ep 160\tMoving average score: 8.00\t\n",
            "Ep 170\tMoving average score: 12.00\t\n",
            "Ep 180\tMoving average score: 11.00\t\n",
            "Ep 190\tMoving average score: 32.00\t\n",
            "Ep 200\tMoving average score: 13.00\t\n",
            "Ep 210\tMoving average score: 17.00\t\n",
            "Ep 220\tMoving average score: 25.00\t\n",
            "Ep 230\tMoving average score: 22.00\t\n",
            "Ep 240\tMoving average score: 21.00\t\n",
            "Ep 250\tMoving average score: 17.00\t\n",
            "Ep 260\tMoving average score: 20.00\t\n",
            "Ep 270\tMoving average score: 29.00\t\n",
            "Ep 280\tMoving average score: 25.00\t\n",
            "Ep 290\tMoving average score: 36.00\t\n",
            "Ep 300\tMoving average score: 77.00\t\n",
            "Ep 310\tMoving average score: 37.00\t\n",
            "Ep 320\tMoving average score: 49.00\t\n",
            "Ep 330\tMoving average score: 104.00\t\n",
            "Ep 340\tMoving average score: 37.00\t\n",
            "Ep 350\tMoving average score: 47.00\t\n",
            "Ep 360\tMoving average score: 36.00\t\n",
            "Ep 370\tMoving average score: 84.00\t\n",
            "Ep 380\tMoving average score: 105.00\t\n",
            "Ep 390\tMoving average score: 110.00\t\n",
            "Ep 400\tMoving average score: 205.00\t\n",
            "Ep 410\tMoving average score: 124.00\t\n",
            "Ep 420\tMoving average score: 142.00\t\n",
            "Ep 430\tMoving average score: 139.00\t\n",
            "Ep 440\tMoving average score: 149.00\t\n",
            "Ep 450\tMoving average score: 292.00\t\n",
            "Ep 460\tMoving average score: 164.00\t\n",
            "Ep 470\tMoving average score: 221.00\t\n",
            "Ep 480\tMoving average score: 500.00\t\n",
            "Ep 490\tMoving average score: 183.00\t\n",
            "Ep 500\tMoving average score: 160.00\t\n",
            "Ep 510\tMoving average score: 172.00\t\n",
            "Ep 520\tMoving average score: 257.00\t\n",
            "Ep 530\tMoving average score: 265.00\t\n",
            "Ep 540\tMoving average score: 170.00\t\n",
            "Ep 550\tMoving average score: 188.00\t\n",
            "Ep 560\tMoving average score: 213.00\t\n",
            "Ep 570\tMoving average score: 169.00\t\n",
            "Ep 580\tMoving average score: 191.00\t\n",
            "Ep 590\tMoving average score: 164.00\t\n",
            "Ep 600\tMoving average score: 278.00\t\n",
            "Ep 610\tMoving average score: 203.00\t\n",
            "Ep 620\tMoving average score: 210.00\t\n",
            "Ep 630\tMoving average score: 391.00\t\n",
            "Ep 640\tMoving average score: 207.00\t\n",
            "Ep 650\tMoving average score: 264.00\t\n",
            "Ep 660\tMoving average score: 351.00\t\n",
            "Ep 670\tMoving average score: 303.00\t\n",
            "Ep 680\tMoving average score: 197.00\t\n",
            "Ep 690\tMoving average score: 307.00\t\n",
            "Ep 700\tMoving average score: 229.00\t\n",
            "Ep 710\tMoving average score: 287.00\t\n",
            "Ep 720\tMoving average score: 345.00\t\n",
            "Ep 730\tMoving average score: 272.00\t\n",
            "Ep 740\tMoving average score: 229.00\t\n",
            "Ep 750\tMoving average score: 500.00\t\n",
            "Ep 760\tMoving average score: 456.00\t\n",
            "Ep 770\tMoving average score: 235.00\t\n",
            "Ep 780\tMoving average score: 500.00\t\n",
            "Ep 790\tMoving average score: 500.00\t\n",
            "Ep 800\tMoving average score: 500.00\t\n",
            "Ep 810\tMoving average score: 284.00\t\n",
            "Ep 820\tMoving average score: 139.00\t\n",
            "Ep 830\tMoving average score: 106.00\t\n",
            "Ep 840\tMoving average score: 18.00\t\n",
            "Ep 850\tMoving average score: 16.00\t\n",
            "Ep 860\tMoving average score: 16.00\t\n",
            "Ep 870\tMoving average score: 14.00\t\n",
            "Ep 880\tMoving average score: 14.00\t\n",
            "Ep 890\tMoving average score: 14.00\t\n",
            "Ep 900\tMoving average score: 11.00\t\n",
            "Ep 910\tMoving average score: 16.00\t\n",
            "Ep 920\tMoving average score: 13.00\t\n",
            "Ep 930\tMoving average score: 11.00\t\n",
            "Ep 940\tMoving average score: 13.00\t\n",
            "Ep 950\tMoving average score: 79.00\t\n",
            "Ep 960\tMoving average score: 77.00\t\n",
            "Ep 970\tMoving average score: 74.00\t\n",
            "Ep 980\tMoving average score: 26.00\t\n",
            "Ep 990\tMoving average score: 24.00\t\n",
            "Ep 1000\tMoving average score: 29.00\t\n",
            "Ep 1010\tMoving average score: 29.00\t\n",
            "Ep 1020\tMoving average score: 25.00\t\n",
            "Ep 1030\tMoving average score: 18.00\t\n",
            "Ep 1040\tMoving average score: 16.00\t\n",
            "Ep 1050\tMoving average score: 18.00\t\n",
            "Ep 1060\tMoving average score: 21.00\t\n",
            "Ep 1070\tMoving average score: 17.00\t\n",
            "Ep 1080\tMoving average score: 16.00\t\n",
            "Ep 1090\tMoving average score: 15.00\t\n",
            "Ep 1100\tMoving average score: 16.00\t\n",
            "Ep 1110\tMoving average score: 16.00\t\n",
            "Ep 1120\tMoving average score: 19.00\t\n",
            "Ep 1130\tMoving average score: 21.00\t\n",
            "Ep 1140\tMoving average score: 20.00\t\n",
            "Ep 1150\tMoving average score: 21.00\t\n",
            "Ep 1160\tMoving average score: 19.00\t\n",
            "Ep 1170\tMoving average score: 22.00\t\n",
            "Ep 1180\tMoving average score: 31.00\t\n",
            "Ep 1190\tMoving average score: 85.00\t\n",
            "Ep 1200\tMoving average score: 500.00\t\n",
            "Ep 1210\tMoving average score: 500.00\t\n",
            "Ep 1220\tMoving average score: 500.00\t\n",
            "Ep 1230\tMoving average score: 487.00\t\n",
            "Ep 1240\tMoving average score: 500.00\t\n",
            "Ep 1250\tMoving average score: 429.00\t\n",
            "Ep 1260\tMoving average score: 387.00\t\n",
            "Ep 1270\tMoving average score: 299.00\t\n",
            "Ep 1280\tMoving average score: 373.00\t\n",
            "Ep 1290\tMoving average score: 500.00\t\n",
            "Ep 1300\tMoving average score: 500.00\t\n",
            "Ep 1310\tMoving average score: 500.00\t\n",
            "Ep 1320\tMoving average score: 500.00\t\n",
            "Ep 1330\tMoving average score: 500.00\t\n",
            "Ep 1340\tMoving average score: 500.00\t\n",
            "Ep 1350\tMoving average score: 450.00\t\n",
            "Ep 1360\tMoving average score: 500.00\t\n",
            "Ep 1370\tMoving average score: 452.00\t\n",
            "Ep 1380\tMoving average score: 394.00\t\n",
            "Ep 1390\tMoving average score: 422.00\t\n",
            "Ep 1400\tMoving average score: 500.00\t\n",
            "Ep 1410\tMoving average score: 500.00\t\n",
            "Ep 1420\tMoving average score: 454.00\t\n",
            "Ep 1430\tMoving average score: 500.00\t\n",
            "Ep 1440\tMoving average score: 473.00\t\n",
            "Ep 1450\tMoving average score: 500.00\t\n",
            "Ep 1460\tMoving average score: 500.00\t\n",
            "Ep 1470\tMoving average score: 500.00\t\n",
            "Ep 1480\tMoving average score: 500.00\t\n",
            "Ep 1490\tMoving average score: 500.00\t\n",
            "Ep 1500\tMoving average score: 453.00\t\n",
            "Ep 1510\tMoving average score: 500.00\t\n",
            "Ep 1520\tMoving average score: 500.00\t\n",
            "Ep 1530\tMoving average score: 458.00\t\n",
            "Ep 1540\tMoving average score: 414.00\t\n",
            "Ep 1550\tMoving average score: 428.00\t\n",
            "Ep 1560\tMoving average score: 500.00\t\n",
            "Ep 1570\tMoving average score: 425.00\t\n",
            "Ep 1580\tMoving average score: 500.00\t\n",
            "Ep 1590\tMoving average score: 500.00\t\n",
            "Ep 1600\tMoving average score: 500.00\t\n",
            "Ep 1610\tMoving average score: 500.00\t\n",
            "Ep 1620\tMoving average score: 500.00\t\n",
            "Ep 1630\tMoving average score: 496.00\t\n",
            "Ep 1640\tMoving average score: 500.00\t\n",
            "Ep 1650\tMoving average score: 500.00\t\n",
            "Ep 1660\tMoving average score: 500.00\t\n",
            "Ep 1670\tMoving average score: 314.00\t\n",
            "Ep 1680\tMoving average score: 500.00\t\n",
            "Ep 1690\tMoving average score: 500.00\t\n",
            "Ep 1700\tMoving average score: 500.00\t\n",
            "Ep 1710\tMoving average score: 500.00\t\n",
            "Ep 1720\tMoving average score: 500.00\t\n",
            "Ep 1730\tMoving average score: 500.00\t\n",
            "Ep 1740\tMoving average score: 500.00\t\n",
            "Ep 1750\tMoving average score: 496.00\t\n",
            "Ep 1760\tMoving average score: 500.00\t\n",
            "Ep 1770\tMoving average score: 500.00\t\n",
            "Ep 1780\tMoving average score: 500.00\t\n",
            "Ep 1790\tMoving average score: 500.00\t\n",
            "Ep 1800\tMoving average score: 500.00\t\n",
            "Ep 1810\tMoving average score: 500.00\t\n",
            "Ep 1820\tMoving average score: 500.00\t\n",
            "Ep 1830\tMoving average score: 500.00\t\n",
            "Ep 1840\tMoving average score: 500.00\t\n",
            "Ep 1850\tMoving average score: 500.00\t\n",
            "Ep 1860\tMoving average score: 500.00\t\n",
            "Ep 1870\tMoving average score: 500.00\t\n",
            "Ep 1880\tMoving average score: 500.00\t\n",
            "Ep 1890\tMoving average score: 500.00\t\n",
            "Ep 1900\tMoving average score: 500.00\t\n",
            "Ep 1910\tMoving average score: 500.00\t\n"
          ]
        }
      ],
      "source": [
        "import gym\n",
        "import torch\n",
        "import torch.nn as nn\n",
        "import numpy as np\n",
        "from collections import deque\n",
        "import random\n",
        "from itertools import count\n",
        "import torch.nn.functional as F\n",
        "from tensorboardX import SummaryWriter\n",
        "\n",
        "\n",
        "device = torch.device(\"cuda:0\" if torch.cuda.is_available() else \"cpu\")\n",
        "\n",
        "\n",
        "class QNetwork(nn.Module):\n",
        "    def __init__(self):\n",
        "        super(QNetwork, self).__init__()\n",
        "\n",
        "        self.fc1 = nn.Linear(4, 64)\n",
        "        self.relu = nn.ReLU()\n",
        "        self.fc_value = nn.Linear(64, 256)\n",
        "        self.fc_adv = nn.Linear(64, 256)\n",
        "\n",
        "        self.value = nn.Linear(256, 1)\n",
        "        self.adv = nn.Linear(256, 2)\n",
        "\n",
        "    def forward(self, state):\n",
        "        y = self.relu(self.fc1(state))\n",
        "        value = self.relu(self.fc_value(y))\n",
        "        adv = self.relu(self.fc_adv(y))\n",
        "\n",
        "        value = self.value(value)\n",
        "        adv = self.adv(adv)\n",
        "\n",
        "        advAverage = torch.mean(adv, dim=1, keepdim=True)\n",
        "        Q = value + adv - advAverage\n",
        "\n",
        "        return Q\n",
        "\n",
        "    def select_action(self, state):\n",
        "        with torch.no_grad():\n",
        "            Q = self.forward(state)\n",
        "            action_index = torch.argmax(Q, dim=1)\n",
        "        return action_index.item()\n",
        "\n",
        "\n",
        "class Memory(object):\n",
        "    def __init__(self, memory_size: int) -> None:\n",
        "        self.memory_size = memory_size\n",
        "        self.buffer = deque(maxlen=self.memory_size)\n",
        "\n",
        "    def add(self, experience) -> None:\n",
        "        self.buffer.append(experience)\n",
        "\n",
        "    def size(self):\n",
        "        return len(self.buffer)\n",
        "\n",
        "    def sample(self, batch_size: int, continuous: bool = True):\n",
        "        if batch_size > len(self.buffer):\n",
        "            batch_size = len(self.buffer)\n",
        "        if continuous:\n",
        "            rand = random.randint(0, len(self.buffer) - batch_size)\n",
        "            return [self.buffer[i] for i in range(rand, rand + batch_size)]\n",
        "        else:\n",
        "            indexes = np.random.choice(np.arange(len(self.buffer)), size=batch_size, replace=False)\n",
        "            return [self.buffer[i] for i in indexes]\n",
        "\n",
        "    def clear(self):\n",
        "        self.buffer.clear()\n",
        "\n",
        "\n",
        "env = gym.make('CartPole-v1')\n",
        "n_state = env.observation_space.shape[0]\n",
        "n_action = env.action_space.n\n",
        "\n",
        "onlineQNetwork = QNetwork().to(device)\n",
        "targetQNetwork = QNetwork().to(device)\n",
        "targetQNetwork.load_state_dict(onlineQNetwork.state_dict())\n",
        "\n",
        "optimizer = torch.optim.Adam(onlineQNetwork.parameters(), lr=1e-4)\n",
        "\n",
        "GAMMA = 0.99\n",
        "EXPLORE = 20000\n",
        "INITIAL_EPSILON = 0.1\n",
        "FINAL_EPSILON = 0.0001\n",
        "REPLAY_MEMORY = 50000\n",
        "BATCH = 16\n",
        "\n",
        "UPDATE_STEPS = 4\n",
        "\n",
        "memory_replay = Memory(REPLAY_MEMORY)\n",
        "cpochs = 4000\n",
        "epsilon = INITIAL_EPSILON\n",
        "learn_steps = 0\n",
        "writer = SummaryWriter('logs/ddqn')\n",
        "begin_learn = False\n",
        "\n",
        "episode_reward = 0\n",
        "rewards = []\n",
        "total_loss = []\n",
        "reward_per_action = {\"0\":[],\"1\":[],\"2\":[],\"3\":[]}\n",
        "# onlineQNetwork.load_state_dict(torch.load('ddqn-policy.para'))\n",
        "\n",
        "for epoch in range(cpochs):\n",
        "\n",
        "    state = env.reset()\n",
        "    episode_reward = 0\n",
        "    done = False\n",
        "    while not done:\n",
        "        p = random.random()\n",
        "        if p < epsilon:\n",
        "            action = random.randint(0, 1)\n",
        "        else:\n",
        "            tensor_state = torch.FloatTensor(state).unsqueeze(0).to(device)\n",
        "            action = onlineQNetwork.select_action(tensor_state)\n",
        "        next_state, reward, done, _ = env.step(action)\n",
        "        episode_reward += reward\n",
        "        memory_replay.add((state, next_state, action, reward, done))\n",
        "        if memory_replay.size() > 128:\n",
        "            if begin_learn is False:\n",
        "                print('learn begin!')\n",
        "                begin_learn = True\n",
        "            learn_steps += 1\n",
        "            if learn_steps % UPDATE_STEPS == 0:\n",
        "                targetQNetwork.load_state_dict(onlineQNetwork.state_dict())\n",
        "            batch = memory_replay.sample(BATCH, False)\n",
        "            batch_state, batch_next_state, batch_action, batch_reward, batch_done = zip(*batch)\n",
        "\n",
        "            batch_state = torch.FloatTensor(batch_state).to(device)\n",
        "            batch_next_state = torch.FloatTensor(batch_next_state).to(device)\n",
        "            batch_action = torch.FloatTensor(batch_action).unsqueeze(1).to(device)\n",
        "            batch_reward = torch.FloatTensor(batch_reward).unsqueeze(1).to(device)\n",
        "            batch_done = torch.FloatTensor(batch_done).unsqueeze(1).to(device)\n",
        "\n",
        "            with torch.no_grad():\n",
        "                onlineQ_next = onlineQNetwork(batch_next_state)\n",
        "                targetQ_next = targetQNetwork(batch_next_state)\n",
        "                online_max_action = torch.argmax(onlineQ_next, dim=1, keepdim=True)\n",
        "                y = batch_reward + (1 - batch_done) * GAMMA * targetQ_next.gather(1, online_max_action.long())\n",
        "\n",
        "            loss = F.mse_loss(onlineQNetwork(batch_state).gather(1, batch_action.long()), y)\n",
        "            total_loss.append(loss)\n",
        "            optimizer.zero_grad()\n",
        "            loss.backward()\n",
        "            optimizer.step()\n",
        "            writer.add_scalar('loss', loss.item(), global_step=learn_steps)\n",
        "\n",
        "            if epsilon > FINAL_EPSILON:\n",
        "                epsilon -= (INITIAL_EPSILON - FINAL_EPSILON) / EXPLORE\n",
        "\n",
        "        if done:\n",
        "            reward_per_action[str(action)].append(reward)\n",
        "        \n",
        "            rewards.append(episode_reward)\n",
        "            break\n",
        "        state = next_state\n",
        "\n",
        "    writer.add_scalar('episode reward', episode_reward, global_step=epoch)\n",
        "    if epoch % 10 == 0:\n",
        "        torch.save(onlineQNetwork.state_dict(), 'ddqn-policy.para')\n",
        "        print('Ep {}\\tMoving average score: {:.2f}\\t'.format(epoch, episode_reward))\n",
        "\n"
      ]
    },
    {
      "cell_type": "markdown",
      "metadata": {
        "id": "FhiWZLcuE4hO"
      },
      "source": [
        "Ploting For Dueling DQN"
      ]
    },
    {
      "cell_type": "code",
      "execution_count": 27,
      "metadata": {
        "colab": {
          "base_uri": "https://localhost:8080/",
          "height": 313
        },
        "id": "F-jhzN4DE9BA",
        "outputId": "e630a7e4-da13-4a29-da69-afbac382a33f"
      },
      "outputs": [
        {
          "data": {
            "text/plain": [
              "Text(0.5, 0, 'EPISODS')"
            ]
          },
          "execution_count": 27,
          "metadata": {},
          "output_type": "execute_result"
        },
        {
          "data": {
            "image/png": "[encoded data removed]",
            "text/plain": [
              "<Figure size 432x288 with 1 Axes>"
            ]
          },
          "metadata": {
            "needs_background": "light"
          },
          "output_type": "display_data"
        }
      ],
      "source": [
        "AVG_average = np.convolve(rewards, np.ones(100)/100)\n",
        "\n",
        "plt.plot(AVG_average, color='black',)\n",
        "plt.title('Average Rewards FOR dueling  DQN')\n",
        "plt.ylabel('AVG Rewards')\n",
        "plt.xlabel('EPISODS')\n",
        "\n"
      ]
    },
    {
      "cell_type": "code",
      "execution_count": 28,
      "metadata": {
        "colab": {
          "base_uri": "https://localhost:8080/",
          "height": 313
        },
        "id": "cBpsm2NLE82K",
        "outputId": "c7a569ed-8d16-4066-acb9-3fa18e6ae6c2"
      },
      "outputs": [
        {
          "data": {
            "text/plain": [
              "Text(0.5, 0, 'EPISODS')"
            ]
          },
          "execution_count": 28,
          "metadata": {},
          "output_type": "execute_result"
        },
        {
          "data": {
            "image/png": "[encoded data removed]",
            "text/plain": [
              "<Figure size 432x288 with 1 Axes>"
            ]
          },
          "metadata": {
            "needs_background": "light"
          },
          "output_type": "display_data"
        }
      ],
      "source": [
        "plt.plot(rewards, color='black',)\n",
        "plt.title('Rewards FOR dueling  DQN')\n",
        "plt.ylabel('Rewards')\n",
        "plt.xlabel('EPISODS')\n",
        "\n"
      ]
    },
    {
      "cell_type": "code",
      "execution_count": 11,
      "metadata": {
        "colab": {
          "base_uri": "https://localhost:8080/",
          "height": 283
        },
        "id": "zvmEoyhTECdE",
        "outputId": "41e488d9-c9c9-4d31-e769-4f8111e52b3e"
      },
      "outputs": [
        {
          "data": {
            "text/plain": [
              "(-1.0, 2.0)"
            ]
          },
          "execution_count": 11,
          "metadata": {},
          "output_type": "execute_result"
        },
        {
          "data": {
            "image/png": "[encoded data removed]",
            "text/plain": [
              "<Figure size 432x288 with 1 Axes>"
            ]
          },
          "metadata": {
            "needs_background": "light"
          },
          "output_type": "display_data"
        }
      ],
      "source": [
        "import matplotlib.pyplot as plt\n",
        "import numpy as np\n",
        "\n",
        "# construct some data like what you have:\n",
        "for key in [\"0\",\"1\"]:\n",
        "  \n",
        "  mins = min(reward_per_action[key])\n",
        "  maxes = max(reward_per_action[key])\n",
        "  means = sum(reward_per_action[key]) / len(reward_per_action[key])\n",
        "  \n",
        "  # create stacked errorbars:\n",
        "  plt.errorbar(np.arange(2), means, fmt='ok', lw=3)\n",
        "  #plt.errorbar(np.arange(2), means, [means - mins, maxes - means],fmt='.k', ecolor='gray', lw=1)\n",
        "plt.xlim(-1, 2)"
      ]
    },
    {
      "cell_type": "markdown",
      "metadata": {
        "id": "wlXvR5O1-zwc"
      },
      "source": [
        "Actor Network"
      ]
    },
     {
   "cell_type": "code",
   "execution_count": 587,
   "metadata": {},
   "outputs": [],
   "source": [
    "import collections\n",
    "import gym\n",
    "import numpy as np\n",
    "import statistics\n",
    "import tensorflow as tf\n",
    "import tqdm\n",
    "\n",
    "from matplotlib import pyplot as plt\n",
    "from tensorflow.keras import layers\n",
    "from typing import Any, List, Sequence, Tuple\n",
    "\n",
    "\n",
    "# Create the environment\n",
    "env = gym.make(\"CartPole-v1\")\n",
    "\n",
    "# Set seed for experiment reproducibility\n",
    "seed = 42\n",
    "env.seed(seed)\n",
    "tf.random.set_seed(seed)\n",
    "np.random.seed(seed)\n",
    "\n",
    "# Small epsilon value for stabilizing division operations\n",
    "eps = np.finfo(np.float32).eps.item()"
   ]
  },
  {
   "cell_type": "code",
   "execution_count": 588,
   "metadata": {},
   "outputs": [],
   "source": [
    "actions_rewards = {} \n",
    "actions_rewards[0] = [] \n",
    "actions_rewards[1] = [] "
   ]
  },
  {
   "cell_type": "code",
   "execution_count": 589,
   "metadata": {},
   "outputs": [],
   "source": [
    "class ActorCritic(tf.keras.Model):\n",
    "  \"\"\"Combined actor-critic network.\"\"\"\n",
    "\n",
    "  def __init__(\n",
    "      self, \n",
    "      num_actions: int, \n",
    "      num_hidden_units: int):\n",
    "    \"\"\"Initialize.\"\"\"\n",
    "    super().__init__()\n",
    "\n",
    "    self.common = layers.Dense(num_hidden_units, activation=\"relu\")\n",
    "    self.actor = layers.Dense(num_actions)\n",
    "    self.critic = layers.Dense(1)\n",
    "\n",
    "  def call(self, inputs: tf.Tensor) -> Tuple[tf.Tensor, tf.Tensor]:\n",
    "    x = self.common(inputs)\n",
    "    return self.actor(x), self.critic(x)"
   ]
  },
  {
   "cell_type": "code",
   "execution_count": 590,
   "metadata": {},
   "outputs": [],
   "source": [
    "num_actions = env.action_space.n  # 2\n",
    "num_hidden_units = 128\n",
    "\n",
    "model = ActorCritic(num_actions, num_hidden_units)"
   ]
  },
  {
   "cell_type": "code",
   "execution_count": 591,
   "metadata": {},
   "outputs": [],
   "source": [
    "def env_step(action: np.ndarray) -> Tuple[np.ndarray, np.ndarray, np.ndarray]:\n",
    "  \"\"\"Returns state, reward and done flag given an action.\"\"\"\n",
    "\n",
    "  state, reward, done, _ = env.step(action)\n",
    "  return (state.astype(np.float32), \n",
    "          np.array(reward, np.int32), \n",
    "          np.array(done, np.int32))\n",
    "\n",
    "\n",
    "def tf_env_step(action: tf.Tensor) -> List[tf.Tensor]:\n",
    "  return tf.numpy_function(env_step, [action], \n",
    "                           [tf.float32, tf.int32, tf.int32])"
   ]
  },
  {
   "cell_type": "code",
   "execution_count": null,
   "metadata": {},
   "outputs": [],
   "source": []
  },
  {
   "cell_type": "code",
   "execution_count": null,
   "metadata": {},
   "outputs": [],
   "source": []
  },
  {
   "cell_type": "code",
   "execution_count": 592,
   "metadata": {},
   "outputs": [],
   "source": [
    "def run_episode(\n",
    "    initial_state: tf.Tensor,  \n",
    "    model: tf.keras.Model, \n",
    "    max_steps: int) -> Tuple[tf.Tensor, tf.Tensor, tf.Tensor]:\n",
    "  \"\"\"Runs a single episode to collect training data.\"\"\"\n",
    "  tf.compat.v1.enable_eager_execution()\n",
    "  action_probs = tf.TensorArray(dtype=tf.float32, size=0, dynamic_size=True)\n",
    "  values = tf.TensorArray(dtype=tf.float32, size=0, dynamic_size=True)\n",
    "  rewards = tf.TensorArray(dtype=tf.int32, size=0, dynamic_size=True)\n",
    "  score = 0\n",
    "  initial_state_shape = initial_state.shape\n",
    "  state = initial_state\n",
    "\n",
    "  for t in tf.range(max_steps):\n",
    "    score = score+1\n",
    "    # Convert state into a batched tensor (batch size = 1)\n",
    "    state = tf.expand_dims(state, 0)\n",
    "\n",
    "    # Run the model and to get action probabilities and critic value\n",
    "    action_logits_t, value = model(state)\n",
    "\n",
    "    # Sample next action from the action probability distribution\n",
    "    action = tf.random.categorical(action_logits_t, 1)[0, 0]\n",
    "\n",
    "    \n",
    "\n",
    "    print(action)\n",
    "    print(\"----------------------------------------------\")\n",
    "\n",
    "    action_probs_t = tf.nn.softmax(action_logits_t)\n",
    "\n",
    "    # Store critic values\n",
    "    values = values.write(t, tf.squeeze(value))\n",
    "\n",
    "    # Store log probability of the action chosen\n",
    "    action_probs = action_probs.write(t, action_probs_t[0, action])\n",
    "\n",
    "    # Apply action to the environment to get next state and reward\n",
    "    state, reward, done = tf_env_step(action)\n",
    "    state.set_shape(initial_state_shape)\n",
    "    #actions_rewards[int(action)].append(int(reward))\n",
    "   \n",
    "\n",
    "    #actions_rewards[action].append()\n",
    "    # Store reward\n",
    "    rewards = rewards.write(t, reward)\n",
    "\n",
    "    if tf.cast(done, tf.bool):\n",
    "      break\n",
    "\n",
    "  action_probs = action_probs.stack()\n",
    "  values = values.stack()\n",
    "  rewards = rewards.stack()\n",
    "\n",
    "  \n",
    "\n",
    "  return action_probs, values, rewards ,  int(score) , action"
   ]
  },
  {
   "cell_type": "code",
   "execution_count": 593,
   "metadata": {},
   "outputs": [],
   "source": [
    "def get_expected_return(\n",
    "    rewards: tf.Tensor, \n",
    "    gamma: float, \n",
    "    standardize: bool = True) -> tf.Tensor:\n",
    "  \"\"\"Compute expected returns per timestep.\"\"\"\n",
    "\n",
    "  n = tf.shape(rewards)[0]\n",
    "  returns = tf.TensorArray(dtype=tf.float32, size=n)\n",
    "\n",
    "  # Start from the end of `rewards` and accumulate reward sums\n",
    "  # into the `returns` array\n",
    "  rewards = tf.cast(rewards[::-1], dtype=tf.float32)\n",
    "  discounted_sum = tf.constant(0.0)\n",
    "  discounted_sum_shape = discounted_sum.shape\n",
    "  for i in tf.range(n):\n",
    "    reward = rewards[i]\n",
    "    discounted_sum = reward + gamma * discounted_sum\n",
    "    discounted_sum.set_shape(discounted_sum_shape)\n",
    "    returns = returns.write(i, discounted_sum)\n",
    "  returns = returns.stack()[::-1]\n",
    "\n",
    "  if standardize:\n",
    "    returns = ((returns - tf.math.reduce_mean(returns)) / \n",
    "               (tf.math.reduce_std(returns) + eps))\n",
    "\n",
    "  return returns"
   ]
  },
  {
   "cell_type": "code",
   "execution_count": 594,
   "metadata": {},
   "outputs": [],
   "source": [
    "huber_loss = tf.keras.losses.Huber(reduction=tf.keras.losses.Reduction.SUM)\n",
    "\n",
    "def compute_loss(\n",
    "    action_probs: tf.Tensor,  \n",
    "    values: tf.Tensor,  \n",
    "    returns: tf.Tensor) -> tf.Tensor:\n",
    "  \"\"\"Computes the combined actor-critic loss.\"\"\"\n",
    "\n",
    "  advantage = returns - values\n",
    "\n",
    "  action_log_probs = tf.math.log(action_probs)\n",
    "  actor_loss = -tf.math.reduce_sum(action_log_probs * advantage)\n",
    "\n",
    "  critic_loss = huber_loss(values, returns)\n",
    "\n",
    "  return actor_loss + critic_loss"
   ]
  },
  {
   "cell_type": "code",
   "execution_count": 595,
   "metadata": {},
   "outputs": [],
   "source": [
    "optimizer = tf.keras.optimizers.Adam(learning_rate=0.01)\n",
    "\n",
    "\n",
    "@tf.function\n",
    "def train_step(\n",
    "    initial_state: tf.Tensor, \n",
    "    model: tf.keras.Model, \n",
    "    optimizer: tf.keras.optimizers.Optimizer, \n",
    "    gamma: float, \n",
    "    max_steps_per_episode: int) -> tf.Tensor:\n",
    "  \"\"\"Runs a model training step.\"\"\"\n",
    "\n",
    "  with tf.GradientTape() as tape:\n",
    "\n",
    "    # Run the model for one episode to collect training data\n",
    "    action_probs, values, rewards, score , action = run_episode(\n",
    "        initial_state, model, max_steps_per_episode) \n",
    "\n",
    "    # Calculate expected returns\n",
    "    returns = get_expected_return(rewards, gamma)\n",
    "\n",
    "    # Convert training data to appropriate TF tensor shapes\n",
    "    action_probs, values, returns = [\n",
    "        tf.expand_dims(x, 1) for x in [action_probs, values, returns]] \n",
    "\n",
    "    # Calculating loss values to update our network\n",
    "    loss = compute_loss(action_probs, values, returns)\n",
    "\n",
    "  # Compute the gradients from the loss\n",
    "  grads = tape.gradient(loss, model.trainable_variables)\n",
    "\n",
    "  # Apply the gradients to the model's parameters\n",
    "  optimizer.apply_gradients(zip(grads, model.trainable_variables))\n",
    "\n",
    "  episode_reward = tf.math.reduce_sum(rewards)\n",
    "\n",
    "  if(tf.cast(action,tf.int32) == 0):\n",
    "    actions_rewards[0].append(int(episode_reward))\n",
    "  else:\n",
    "    actions_rewards[1].append(int(episode_reward))\n",
    "\n",
    "  return episode_reward , loss , score"
   ]
  },
  {
   "cell_type": "code",
   "execution_count": 596,
   "metadata": {},
   "outputs": [
    {
     "name": "stderr",
     "output_type": "stream",
     "text": [
      "  0%|          | 0/10000 [00:00<?, ?it/s]"
     ]
    },
    {
     "name": "stdout",
     "output_type": "stream",
     "text": [
      "Tensor(\"strided_slice:0\", shape=(), dtype=int64)\n",
      "----------------------------------------------\n",
      "Tensor(\"while/strided_slice:0\", shape=(), dtype=int64)\n",
      "----------------------------------------------\n",
      "Tensor(\"strided_slice:0\", shape=(), dtype=int64)\n",
      "----------------------------------------------\n",
      "Tensor(\"while/strided_slice:0\", shape=(), dtype=int64)\n",
      "----------------------------------------------\n"
     ]
    },
    {
     "name": "stderr",
     "output_type": "stream",
     "text": [
      "<timed exec>:34: RuntimeWarning: divide by zero encountered in long_scalars\n",
      "Episode 1197:  12%|█▏        | 1197/10000 [04:36<33:55,  4.33it/s, episode_reward=500, running_reward=500, score=tf.Tensor(500, shape=(), dtype=int32)]"
     ]
    },
    {
     "name": "stdout",
     "output_type": "stream",
     "text": [
      "\n",
      "Solved at episode 1197: average reward: 500.00!\n",
      "Wall time: 4min 36s\n"
     ]
    },
    {
     "name": "stderr",
     "output_type": "stream",
     "text": [
      "\n"
     ]
    }
   ],
   "source": [
    "%%time\n",
    "\n",
    "min_episodes_criterion = 100\n",
    "max_episodes = 10000\n",
    "max_steps_per_episode = 1000\n",
    "\n",
    "# Cartpole-v0 is considered solved if average reward is >= 195 over 100 \n",
    "# consecutive trials\n",
    "reward_threshold = 498\n",
    "running_reward = 0\n",
    "\n",
    "# Discount factor for future rewards\n",
    "gamma = 0.99\n",
    "\n",
    "Average_Rewards = []\n",
    "episodes_reward_v = []\n",
    "running_rewards = []\n",
    "losses_rewards = []\n",
    "scores = []\n",
    "\n",
    "# Keep last episodes reward\n",
    "episodes_reward: collections.deque = collections.deque(maxlen=min_episodes_criterion)\n",
    "\n",
    "with tqdm.trange(max_episodes) as t:\n",
    "  for i in t:\n",
    "    initial_state = tf.constant(env.reset(), dtype=tf.float32)\n",
    "    episode_reward , loss , score = train_step(\n",
    "        initial_state, model, optimizer, gamma, max_steps_per_episode)\n",
    "\n",
    "    \n",
    "    scores.append(score) ;\n",
    "    episode_reward = int(episode_reward)\n",
    "    losses_rewards.append(loss/i)\n",
    "    episodes_reward.append(episode_reward)\n",
    "    episodes_reward_v.append(episode_reward)\n",
    "    Average_Rewards.append(np.sum(episodes_reward_v)/i)\n",
    "    running_reward = statistics.mean(episodes_reward)\n",
    "    running_rewards.append(running_reward)\n",
    "\n",
    "    t.set_description(f'Episode {i}')\n",
    "    t.set_postfix(\n",
    "        episode_reward=episode_reward, running_reward=running_reward, score = score)\n",
    "\n",
    "    # Show average episode reward every 10 episodes\n",
    "    if i % 10 == 0:\n",
    "      pass # print(f'Episode {i}: average reward: {avg_reward}')\n",
    "\n",
    "    if (running_reward > reward_threshold and i >= min_episodes_criterion)  :  \n",
    "        break\n",
    "\n",
    "print(f'\\nSolved at episode {i}: average reward: {running_reward:.2f}!')\n",
    "\n",
    "\n"
   ]
  },
  {
   "cell_type": "code",
   "execution_count": 597,
   "metadata": {},
   "outputs": [
    {
     "name": "stderr",
     "output_type": "stream",
     "text": [
      "No handles with labels found to put in legend.\n"
     ]
    },
    {
     "data": {
      "image/png": "[encoded data removed]",
      "text/plain": [
       "<Figure size 432x288 with 1 Axes>"
      ]
     },
     "metadata": {
      "needs_background": "light"
     },
     "output_type": "display_data"
    }
   ],
   "source": [
    "import matplotlib.pyplot as plt\n",
    "plt.xlabel(\"episode\")\n",
    "plt.ylabel(\"Rewards\")\n",
    "ax = plt.gca()\n",
    "\n",
    "ax.set_ylim([0, 600])\n",
    "plt.title(\"actor critic model\")\n",
    "#plt.plot(episodes_reward_v , label = \"Episodes Reward\")\n",
    "plt.legend(loc='best')\n",
    "plt.plot(running_rewards  , label = \"Runing Reward\")\n",
    "plt.plot(Average_Rewards  , label = \"Average Rewards\")\n",
    "\n",
    "plt.show()"
   ]
  },
  {
   "cell_type": "code",
   "execution_count": null,
   "metadata": {},
   "outputs": [],
   "source": []
  },
  {
   "cell_type": "code",
   "execution_count": 598,
   "metadata": {},
   "outputs": [
    {
     "name": "stderr",
     "output_type": "stream",
     "text": [
      "No handles with labels found to put in legend.\n"
     ]
    },
    {
     "data": {
      "image/png": "[encoded data removed]",
      "text/plain": [
       "<Figure size 432x288 with 1 Axes>"
      ]
     },
     "metadata": {
      "needs_background": "light"
     },
     "output_type": "display_data"
    }
   ],
   "source": [
    "import matplotlib.pyplot as plt\n",
    "plt.xlabel(\"episode\")\n",
    "plt.ylabel(\"Loss\")\n",
    "plt.legend(loc='best')\n",
    "plt.title(\"actor critic model\")\n",
    "plt.plot(losses_rewards , label = \"Loss\")\n",
    "\n",
    "plt.show()\n"
   ]
  },
  {
   "cell_type": "code",
   "execution_count": 599,
   "metadata": {},
   "outputs": [
    {
     "name": "stderr",
     "output_type": "stream",
     "text": [
      "No handles with labels found to put in legend.\n"
     ]
    },
    {
     "data": {
      "image/png": "[encoded data removed]",
      "text/plain": [
       "<Figure size 432x288 with 1 Axes>"
      ]
     },
     "metadata": {
      "needs_background": "light"
     },
     "output_type": "display_data"
    }
   ],
   "source": [
    "\n",
    "import matplotlib.pyplot as plt\n",
    "plt.xlabel(\"episode\")\n",
    "plt.ylabel(\"score\")\n",
    "plt.legend(loc='best')\n",
    "plt.title(\"score achieved at each episode \")\n",
    "plt.plot(scores , label = \"Loss\")\n",
    "\n",
    "plt.show()"
   ]
  },
  {
   "cell_type": "code",
   "execution_count": 600,
   "metadata": {},
   "outputs": [
    {
     "name": "stderr",
     "output_type": "stream",
     "text": [
      "No handles with labels found to put in legend.\n"
     ]
    },
    {
     "data": {
      "image/png": "[encoded data removed]",
      "text/plain": [
       "<Figure size 432x288 with 1 Axes>"
      ]
     },
     "metadata": {
      "needs_background": "light"
     },
     "output_type": "display_data"
    }
   ],
   "source": [
    "import matplotlib.pyplot as plt\n",
    "plt.xlabel(\"episode\")\n",
    "plt.ylabel(\"score\")\n",
    "plt.legend(loc='best')\n",
    "plt.title(\"episode Reward\")\n",
    "plt.plot(episodes_reward_v , label = \"Episodes Reward\")\n",
    "\n",
    "plt.show()"
   ]
  }
 ],
 "metadata": {
  "interpreter": {
   "hash": "ad2bdc8ecc057115af97d19610ffacc2b4e99fae6737bb82f5d7fb13d2f2c186"
  },
  "kernelspec": {
   "display_name": "Python 3.9.7 ('base')",
   "language": "python",
   "name": "python3"
  },
  "language_info": {
   "codemirror_mode": {
    "name": "ipython",
    "version": 3
   },
   "file_extension": ".py",
   "mimetype": "text/x-python",
   "name": "python",
   "nbconvert_exporter": "python",
   "pygments_lexer": "ipython3",
   "version": "3.9.7"
  },
  "orig_nbformat": 4
 },
 "nbformat": 4,
 "nbformat_minor": 2
}
